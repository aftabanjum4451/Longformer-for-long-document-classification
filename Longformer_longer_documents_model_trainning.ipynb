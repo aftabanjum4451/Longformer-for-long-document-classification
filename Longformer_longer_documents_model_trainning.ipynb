{
  "nbformat": 4,
  "nbformat_minor": 0,
  "metadata": {
    "accelerator": "GPU",
    "colab": {
      "name": "github belltire-16-indictor-trainning",
      "provenance": [],
      "collapsed_sections": [],
      "machine_shape": "hm"
    },
    "kernelspec": {
      "display_name": "Python 3",
      "name": "python3"
    },
    "language_info": {
      "name": "python"
    },
    "widgets": {
      "application/vnd.jupyter.widget-state+json": {
        "8ba1daecb8f743a69e12229b8db1d78f": {
          "model_module": "@jupyter-widgets/controls",
          "model_name": "HBoxModel",
          "model_module_version": "1.5.0",
          "state": {
            "_view_name": "HBoxView",
            "_dom_classes": [],
            "_model_name": "HBoxModel",
            "_view_module": "@jupyter-widgets/controls",
            "_model_module_version": "1.5.0",
            "_view_count": null,
            "_view_module_version": "1.5.0",
            "box_style": "",
            "layout": "IPY_MODEL_c9d1eae1f835478f824acab270579d6c",
            "_model_module": "@jupyter-widgets/controls",
            "children": [
              "IPY_MODEL_92ecf119f13b4a569028d357072ff533",
              "IPY_MODEL_41d938070e204474aeda447059ac9e97",
              "IPY_MODEL_40fe1bf9dcd44081a9e74021f215037e"
            ]
          }
        },
        "c9d1eae1f835478f824acab270579d6c": {
          "model_module": "@jupyter-widgets/base",
          "model_name": "LayoutModel",
          "model_module_version": "1.2.0",
          "state": {
            "_view_name": "LayoutView",
            "grid_template_rows": null,
            "right": null,
            "justify_content": null,
            "_view_module": "@jupyter-widgets/base",
            "overflow": null,
            "_model_module_version": "1.2.0",
            "_view_count": null,
            "flex_flow": null,
            "width": null,
            "min_width": null,
            "border": null,
            "align_items": null,
            "bottom": null,
            "_model_module": "@jupyter-widgets/base",
            "top": null,
            "grid_column": null,
            "overflow_y": null,
            "overflow_x": null,
            "grid_auto_flow": null,
            "grid_area": null,
            "grid_template_columns": null,
            "flex": null,
            "_model_name": "LayoutModel",
            "justify_items": null,
            "grid_row": null,
            "max_height": null,
            "align_content": null,
            "visibility": null,
            "align_self": null,
            "height": null,
            "min_height": null,
            "padding": null,
            "grid_auto_rows": null,
            "grid_gap": null,
            "max_width": null,
            "order": null,
            "_view_module_version": "1.2.0",
            "grid_template_areas": null,
            "object_position": null,
            "object_fit": null,
            "grid_auto_columns": null,
            "margin": null,
            "display": null,
            "left": null
          }
        },
        "92ecf119f13b4a569028d357072ff533": {
          "model_module": "@jupyter-widgets/controls",
          "model_name": "HTMLModel",
          "model_module_version": "1.5.0",
          "state": {
            "_view_name": "HTMLView",
            "style": "IPY_MODEL_fe0bdbe53bbe43d19c0b85b71a2bd4df",
            "_dom_classes": [],
            "description": "",
            "_model_name": "HTMLModel",
            "placeholder": "​",
            "_view_module": "@jupyter-widgets/controls",
            "_model_module_version": "1.5.0",
            "value": "Downloading: 100%",
            "_view_count": null,
            "_view_module_version": "1.5.0",
            "description_tooltip": null,
            "_model_module": "@jupyter-widgets/controls",
            "layout": "IPY_MODEL_111d0a26082b4e44a9e0d3791d0ddc03"
          }
        },
        "41d938070e204474aeda447059ac9e97": {
          "model_module": "@jupyter-widgets/controls",
          "model_name": "FloatProgressModel",
          "model_module_version": "1.5.0",
          "state": {
            "_view_name": "ProgressView",
            "style": "IPY_MODEL_3bc7a2597ac14d4e8a1fa85c7808c874",
            "_dom_classes": [],
            "description": "",
            "_model_name": "FloatProgressModel",
            "bar_style": "success",
            "max": 898823,
            "_view_module": "@jupyter-widgets/controls",
            "_model_module_version": "1.5.0",
            "value": 898823,
            "_view_count": null,
            "_view_module_version": "1.5.0",
            "orientation": "horizontal",
            "min": 0,
            "description_tooltip": null,
            "_model_module": "@jupyter-widgets/controls",
            "layout": "IPY_MODEL_534ed3bd93bf488aa836b7d4d4635617"
          }
        },
        "40fe1bf9dcd44081a9e74021f215037e": {
          "model_module": "@jupyter-widgets/controls",
          "model_name": "HTMLModel",
          "model_module_version": "1.5.0",
          "state": {
            "_view_name": "HTMLView",
            "style": "IPY_MODEL_4832422bdf4a45e0ae877e3998b63400",
            "_dom_classes": [],
            "description": "",
            "_model_name": "HTMLModel",
            "placeholder": "​",
            "_view_module": "@jupyter-widgets/controls",
            "_model_module_version": "1.5.0",
            "value": " 899k/899k [00:00&lt;00:00, 2.23MB/s]",
            "_view_count": null,
            "_view_module_version": "1.5.0",
            "description_tooltip": null,
            "_model_module": "@jupyter-widgets/controls",
            "layout": "IPY_MODEL_e06662854aaa4c0e8d3ee4f6559598ec"
          }
        },
        "fe0bdbe53bbe43d19c0b85b71a2bd4df": {
          "model_module": "@jupyter-widgets/controls",
          "model_name": "DescriptionStyleModel",
          "model_module_version": "1.5.0",
          "state": {
            "_view_name": "StyleView",
            "_model_name": "DescriptionStyleModel",
            "description_width": "",
            "_view_module": "@jupyter-widgets/base",
            "_model_module_version": "1.5.0",
            "_view_count": null,
            "_view_module_version": "1.2.0",
            "_model_module": "@jupyter-widgets/controls"
          }
        },
        "111d0a26082b4e44a9e0d3791d0ddc03": {
          "model_module": "@jupyter-widgets/base",
          "model_name": "LayoutModel",
          "model_module_version": "1.2.0",
          "state": {
            "_view_name": "LayoutView",
            "grid_template_rows": null,
            "right": null,
            "justify_content": null,
            "_view_module": "@jupyter-widgets/base",
            "overflow": null,
            "_model_module_version": "1.2.0",
            "_view_count": null,
            "flex_flow": null,
            "width": null,
            "min_width": null,
            "border": null,
            "align_items": null,
            "bottom": null,
            "_model_module": "@jupyter-widgets/base",
            "top": null,
            "grid_column": null,
            "overflow_y": null,
            "overflow_x": null,
            "grid_auto_flow": null,
            "grid_area": null,
            "grid_template_columns": null,
            "flex": null,
            "_model_name": "LayoutModel",
            "justify_items": null,
            "grid_row": null,
            "max_height": null,
            "align_content": null,
            "visibility": null,
            "align_self": null,
            "height": null,
            "min_height": null,
            "padding": null,
            "grid_auto_rows": null,
            "grid_gap": null,
            "max_width": null,
            "order": null,
            "_view_module_version": "1.2.0",
            "grid_template_areas": null,
            "object_position": null,
            "object_fit": null,
            "grid_auto_columns": null,
            "margin": null,
            "display": null,
            "left": null
          }
        },
        "3bc7a2597ac14d4e8a1fa85c7808c874": {
          "model_module": "@jupyter-widgets/controls",
          "model_name": "ProgressStyleModel",
          "model_module_version": "1.5.0",
          "state": {
            "_view_name": "StyleView",
            "_model_name": "ProgressStyleModel",
            "description_width": "",
            "_view_module": "@jupyter-widgets/base",
            "_model_module_version": "1.5.0",
            "_view_count": null,
            "_view_module_version": "1.2.0",
            "bar_color": null,
            "_model_module": "@jupyter-widgets/controls"
          }
        },
        "534ed3bd93bf488aa836b7d4d4635617": {
          "model_module": "@jupyter-widgets/base",
          "model_name": "LayoutModel",
          "model_module_version": "1.2.0",
          "state": {
            "_view_name": "LayoutView",
            "grid_template_rows": null,
            "right": null,
            "justify_content": null,
            "_view_module": "@jupyter-widgets/base",
            "overflow": null,
            "_model_module_version": "1.2.0",
            "_view_count": null,
            "flex_flow": null,
            "width": null,
            "min_width": null,
            "border": null,
            "align_items": null,
            "bottom": null,
            "_model_module": "@jupyter-widgets/base",
            "top": null,
            "grid_column": null,
            "overflow_y": null,
            "overflow_x": null,
            "grid_auto_flow": null,
            "grid_area": null,
            "grid_template_columns": null,
            "flex": null,
            "_model_name": "LayoutModel",
            "justify_items": null,
            "grid_row": null,
            "max_height": null,
            "align_content": null,
            "visibility": null,
            "align_self": null,
            "height": null,
            "min_height": null,
            "padding": null,
            "grid_auto_rows": null,
            "grid_gap": null,
            "max_width": null,
            "order": null,
            "_view_module_version": "1.2.0",
            "grid_template_areas": null,
            "object_position": null,
            "object_fit": null,
            "grid_auto_columns": null,
            "margin": null,
            "display": null,
            "left": null
          }
        },
        "4832422bdf4a45e0ae877e3998b63400": {
          "model_module": "@jupyter-widgets/controls",
          "model_name": "DescriptionStyleModel",
          "model_module_version": "1.5.0",
          "state": {
            "_view_name": "StyleView",
            "_model_name": "DescriptionStyleModel",
            "description_width": "",
            "_view_module": "@jupyter-widgets/base",
            "_model_module_version": "1.5.0",
            "_view_count": null,
            "_view_module_version": "1.2.0",
            "_model_module": "@jupyter-widgets/controls"
          }
        },
        "e06662854aaa4c0e8d3ee4f6559598ec": {
          "model_module": "@jupyter-widgets/base",
          "model_name": "LayoutModel",
          "model_module_version": "1.2.0",
          "state": {
            "_view_name": "LayoutView",
            "grid_template_rows": null,
            "right": null,
            "justify_content": null,
            "_view_module": "@jupyter-widgets/base",
            "overflow": null,
            "_model_module_version": "1.2.0",
            "_view_count": null,
            "flex_flow": null,
            "width": null,
            "min_width": null,
            "border": null,
            "align_items": null,
            "bottom": null,
            "_model_module": "@jupyter-widgets/base",
            "top": null,
            "grid_column": null,
            "overflow_y": null,
            "overflow_x": null,
            "grid_auto_flow": null,
            "grid_area": null,
            "grid_template_columns": null,
            "flex": null,
            "_model_name": "LayoutModel",
            "justify_items": null,
            "grid_row": null,
            "max_height": null,
            "align_content": null,
            "visibility": null,
            "align_self": null,
            "height": null,
            "min_height": null,
            "padding": null,
            "grid_auto_rows": null,
            "grid_gap": null,
            "max_width": null,
            "order": null,
            "_view_module_version": "1.2.0",
            "grid_template_areas": null,
            "object_position": null,
            "object_fit": null,
            "grid_auto_columns": null,
            "margin": null,
            "display": null,
            "left": null
          }
        },
        "32419fa07e9e44048f908bfc5299940c": {
          "model_module": "@jupyter-widgets/controls",
          "model_name": "HBoxModel",
          "model_module_version": "1.5.0",
          "state": {
            "_view_name": "HBoxView",
            "_dom_classes": [],
            "_model_name": "HBoxModel",
            "_view_module": "@jupyter-widgets/controls",
            "_model_module_version": "1.5.0",
            "_view_count": null,
            "_view_module_version": "1.5.0",
            "box_style": "",
            "layout": "IPY_MODEL_3d463f6a925e48a98eab2aa319bb8547",
            "_model_module": "@jupyter-widgets/controls",
            "children": [
              "IPY_MODEL_6224aaea708147a8ba1242496c5b7a13",
              "IPY_MODEL_ea61c843b9d84a368c067161f46c8040",
              "IPY_MODEL_d26b4a8b7d4d4f5cb26870170788464b"
            ]
          }
        },
        "3d463f6a925e48a98eab2aa319bb8547": {
          "model_module": "@jupyter-widgets/base",
          "model_name": "LayoutModel",
          "model_module_version": "1.2.0",
          "state": {
            "_view_name": "LayoutView",
            "grid_template_rows": null,
            "right": null,
            "justify_content": null,
            "_view_module": "@jupyter-widgets/base",
            "overflow": null,
            "_model_module_version": "1.2.0",
            "_view_count": null,
            "flex_flow": null,
            "width": null,
            "min_width": null,
            "border": null,
            "align_items": null,
            "bottom": null,
            "_model_module": "@jupyter-widgets/base",
            "top": null,
            "grid_column": null,
            "overflow_y": null,
            "overflow_x": null,
            "grid_auto_flow": null,
            "grid_area": null,
            "grid_template_columns": null,
            "flex": null,
            "_model_name": "LayoutModel",
            "justify_items": null,
            "grid_row": null,
            "max_height": null,
            "align_content": null,
            "visibility": null,
            "align_self": null,
            "height": null,
            "min_height": null,
            "padding": null,
            "grid_auto_rows": null,
            "grid_gap": null,
            "max_width": null,
            "order": null,
            "_view_module_version": "1.2.0",
            "grid_template_areas": null,
            "object_position": null,
            "object_fit": null,
            "grid_auto_columns": null,
            "margin": null,
            "display": null,
            "left": null
          }
        },
        "6224aaea708147a8ba1242496c5b7a13": {
          "model_module": "@jupyter-widgets/controls",
          "model_name": "HTMLModel",
          "model_module_version": "1.5.0",
          "state": {
            "_view_name": "HTMLView",
            "style": "IPY_MODEL_6cd41790adce47ea8126784a608dc990",
            "_dom_classes": [],
            "description": "",
            "_model_name": "HTMLModel",
            "placeholder": "​",
            "_view_module": "@jupyter-widgets/controls",
            "_model_module_version": "1.5.0",
            "value": "Downloading: 100%",
            "_view_count": null,
            "_view_module_version": "1.5.0",
            "description_tooltip": null,
            "_model_module": "@jupyter-widgets/controls",
            "layout": "IPY_MODEL_ede59b0e612d431a8ecaea7430b87976"
          }
        },
        "ea61c843b9d84a368c067161f46c8040": {
          "model_module": "@jupyter-widgets/controls",
          "model_name": "FloatProgressModel",
          "model_module_version": "1.5.0",
          "state": {
            "_view_name": "ProgressView",
            "style": "IPY_MODEL_b9ffc2f695984a06b63e2c1d71f6d19c",
            "_dom_classes": [],
            "description": "",
            "_model_name": "FloatProgressModel",
            "bar_style": "success",
            "max": 456318,
            "_view_module": "@jupyter-widgets/controls",
            "_model_module_version": "1.5.0",
            "value": 456318,
            "_view_count": null,
            "_view_module_version": "1.5.0",
            "orientation": "horizontal",
            "min": 0,
            "description_tooltip": null,
            "_model_module": "@jupyter-widgets/controls",
            "layout": "IPY_MODEL_02eb718da6614c0f947b008ad9406e67"
          }
        },
        "d26b4a8b7d4d4f5cb26870170788464b": {
          "model_module": "@jupyter-widgets/controls",
          "model_name": "HTMLModel",
          "model_module_version": "1.5.0",
          "state": {
            "_view_name": "HTMLView",
            "style": "IPY_MODEL_5d5417f6487a467c93803b86c514fc7d",
            "_dom_classes": [],
            "description": "",
            "_model_name": "HTMLModel",
            "placeholder": "​",
            "_view_module": "@jupyter-widgets/controls",
            "_model_module_version": "1.5.0",
            "value": " 456k/456k [00:00&lt;00:00, 574kB/s]",
            "_view_count": null,
            "_view_module_version": "1.5.0",
            "description_tooltip": null,
            "_model_module": "@jupyter-widgets/controls",
            "layout": "IPY_MODEL_35e6e75846774e9e9244c4bffe97342a"
          }
        },
        "6cd41790adce47ea8126784a608dc990": {
          "model_module": "@jupyter-widgets/controls",
          "model_name": "DescriptionStyleModel",
          "model_module_version": "1.5.0",
          "state": {
            "_view_name": "StyleView",
            "_model_name": "DescriptionStyleModel",
            "description_width": "",
            "_view_module": "@jupyter-widgets/base",
            "_model_module_version": "1.5.0",
            "_view_count": null,
            "_view_module_version": "1.2.0",
            "_model_module": "@jupyter-widgets/controls"
          }
        },
        "ede59b0e612d431a8ecaea7430b87976": {
          "model_module": "@jupyter-widgets/base",
          "model_name": "LayoutModel",
          "model_module_version": "1.2.0",
          "state": {
            "_view_name": "LayoutView",
            "grid_template_rows": null,
            "right": null,
            "justify_content": null,
            "_view_module": "@jupyter-widgets/base",
            "overflow": null,
            "_model_module_version": "1.2.0",
            "_view_count": null,
            "flex_flow": null,
            "width": null,
            "min_width": null,
            "border": null,
            "align_items": null,
            "bottom": null,
            "_model_module": "@jupyter-widgets/base",
            "top": null,
            "grid_column": null,
            "overflow_y": null,
            "overflow_x": null,
            "grid_auto_flow": null,
            "grid_area": null,
            "grid_template_columns": null,
            "flex": null,
            "_model_name": "LayoutModel",
            "justify_items": null,
            "grid_row": null,
            "max_height": null,
            "align_content": null,
            "visibility": null,
            "align_self": null,
            "height": null,
            "min_height": null,
            "padding": null,
            "grid_auto_rows": null,
            "grid_gap": null,
            "max_width": null,
            "order": null,
            "_view_module_version": "1.2.0",
            "grid_template_areas": null,
            "object_position": null,
            "object_fit": null,
            "grid_auto_columns": null,
            "margin": null,
            "display": null,
            "left": null
          }
        },
        "b9ffc2f695984a06b63e2c1d71f6d19c": {
          "model_module": "@jupyter-widgets/controls",
          "model_name": "ProgressStyleModel",
          "model_module_version": "1.5.0",
          "state": {
            "_view_name": "StyleView",
            "_model_name": "ProgressStyleModel",
            "description_width": "",
            "_view_module": "@jupyter-widgets/base",
            "_model_module_version": "1.5.0",
            "_view_count": null,
            "_view_module_version": "1.2.0",
            "bar_color": null,
            "_model_module": "@jupyter-widgets/controls"
          }
        },
        "02eb718da6614c0f947b008ad9406e67": {
          "model_module": "@jupyter-widgets/base",
          "model_name": "LayoutModel",
          "model_module_version": "1.2.0",
          "state": {
            "_view_name": "LayoutView",
            "grid_template_rows": null,
            "right": null,
            "justify_content": null,
            "_view_module": "@jupyter-widgets/base",
            "overflow": null,
            "_model_module_version": "1.2.0",
            "_view_count": null,
            "flex_flow": null,
            "width": null,
            "min_width": null,
            "border": null,
            "align_items": null,
            "bottom": null,
            "_model_module": "@jupyter-widgets/base",
            "top": null,
            "grid_column": null,
            "overflow_y": null,
            "overflow_x": null,
            "grid_auto_flow": null,
            "grid_area": null,
            "grid_template_columns": null,
            "flex": null,
            "_model_name": "LayoutModel",
            "justify_items": null,
            "grid_row": null,
            "max_height": null,
            "align_content": null,
            "visibility": null,
            "align_self": null,
            "height": null,
            "min_height": null,
            "padding": null,
            "grid_auto_rows": null,
            "grid_gap": null,
            "max_width": null,
            "order": null,
            "_view_module_version": "1.2.0",
            "grid_template_areas": null,
            "object_position": null,
            "object_fit": null,
            "grid_auto_columns": null,
            "margin": null,
            "display": null,
            "left": null
          }
        },
        "5d5417f6487a467c93803b86c514fc7d": {
          "model_module": "@jupyter-widgets/controls",
          "model_name": "DescriptionStyleModel",
          "model_module_version": "1.5.0",
          "state": {
            "_view_name": "StyleView",
            "_model_name": "DescriptionStyleModel",
            "description_width": "",
            "_view_module": "@jupyter-widgets/base",
            "_model_module_version": "1.5.0",
            "_view_count": null,
            "_view_module_version": "1.2.0",
            "_model_module": "@jupyter-widgets/controls"
          }
        },
        "35e6e75846774e9e9244c4bffe97342a": {
          "model_module": "@jupyter-widgets/base",
          "model_name": "LayoutModel",
          "model_module_version": "1.2.0",
          "state": {
            "_view_name": "LayoutView",
            "grid_template_rows": null,
            "right": null,
            "justify_content": null,
            "_view_module": "@jupyter-widgets/base",
            "overflow": null,
            "_model_module_version": "1.2.0",
            "_view_count": null,
            "flex_flow": null,
            "width": null,
            "min_width": null,
            "border": null,
            "align_items": null,
            "bottom": null,
            "_model_module": "@jupyter-widgets/base",
            "top": null,
            "grid_column": null,
            "overflow_y": null,
            "overflow_x": null,
            "grid_auto_flow": null,
            "grid_area": null,
            "grid_template_columns": null,
            "flex": null,
            "_model_name": "LayoutModel",
            "justify_items": null,
            "grid_row": null,
            "max_height": null,
            "align_content": null,
            "visibility": null,
            "align_self": null,
            "height": null,
            "min_height": null,
            "padding": null,
            "grid_auto_rows": null,
            "grid_gap": null,
            "max_width": null,
            "order": null,
            "_view_module_version": "1.2.0",
            "grid_template_areas": null,
            "object_position": null,
            "object_fit": null,
            "grid_auto_columns": null,
            "margin": null,
            "display": null,
            "left": null
          }
        }
      }
    }
  },
  "cells": [
    {
      "cell_type": "code",
      "metadata": {
        "id": "XKGMFAzR1pWp",
        "colab": {
          "base_uri": "https://localhost:8080/"
        },
        "outputId": "71084774-c9af-439e-ff6b-0abd70f9499b"
      },
      "source": [
        "from google.colab import drive\n",
        "drive.mount('/content/gdrive')"
      ],
      "execution_count": 1,
      "outputs": [
        {
          "output_type": "stream",
          "name": "stdout",
          "text": [
            "Mounted at /content/gdrive\n"
          ]
        }
      ]
    },
    {
      "cell_type": "code",
      "metadata": {
        "colab": {
          "base_uri": "https://localhost:8080/"
        },
        "id": "ISCAaFcACu6i",
        "outputId": "92d631a6-5be9-427e-ad2d-6bc876283c7f"
      },
      "source": [
        "!pip install contractions\n",
        "!pip install git+https://github.com/allenai/longformer.git"
      ],
      "execution_count": 2,
      "outputs": [
        {
          "output_type": "stream",
          "name": "stdout",
          "text": [
            "Collecting contractions\n",
            "  Downloading contractions-0.0.52-py2.py3-none-any.whl (7.2 kB)\n",
            "Collecting textsearch>=0.0.21\n",
            "  Downloading textsearch-0.0.21-py2.py3-none-any.whl (7.5 kB)\n",
            "Collecting pyahocorasick\n",
            "  Downloading pyahocorasick-1.4.2.tar.gz (321 kB)\n",
            "\u001b[K     |████████████████████████████████| 321 kB 7.9 MB/s \n",
            "\u001b[?25hCollecting anyascii\n",
            "  Downloading anyascii-0.3.0-py3-none-any.whl (284 kB)\n",
            "\u001b[K     |████████████████████████████████| 284 kB 63.5 MB/s \n",
            "\u001b[?25hBuilding wheels for collected packages: pyahocorasick\n",
            "  Building wheel for pyahocorasick (setup.py) ... \u001b[?25l\u001b[?25hdone\n",
            "  Created wheel for pyahocorasick: filename=pyahocorasick-1.4.2-cp37-cp37m-linux_x86_64.whl size=85442 sha256=35aa688c246b80bba8872a001d07881eb03d83d75bfeff4e8820945c42816b64\n",
            "  Stored in directory: /root/.cache/pip/wheels/25/19/a6/8f363d9939162782bb8439d886469756271abc01f76fbd790f\n",
            "Successfully built pyahocorasick\n",
            "Installing collected packages: pyahocorasick, anyascii, textsearch, contractions\n",
            "Successfully installed anyascii-0.3.0 contractions-0.0.52 pyahocorasick-1.4.2 textsearch-0.0.21\n",
            "Collecting git+https://github.com/allenai/longformer.git\n",
            "  Cloning https://github.com/allenai/longformer.git to /tmp/pip-req-build-pdk0b1_q\n",
            "  Running command git clone -q https://github.com/allenai/longformer.git /tmp/pip-req-build-pdk0b1_q\n",
            "Collecting transformers@ git+http://github.com/ibeltagy/transformers.git@longformer_encoder_decoder#egg=transformers\n",
            "  Cloning http://github.com/ibeltagy/transformers.git (to revision longformer_encoder_decoder) to /tmp/pip-install-wu7_c0yr/transformers_8037a4c19f934afc9ac516c317792190\n",
            "  Running command git clone -q http://github.com/ibeltagy/transformers.git /tmp/pip-install-wu7_c0yr/transformers_8037a4c19f934afc9ac516c317792190\n",
            "  Running command git checkout -b longformer_encoder_decoder --track origin/longformer_encoder_decoder\n",
            "  Switched to a new branch 'longformer_encoder_decoder'\n",
            "  Branch 'longformer_encoder_decoder' set up to track remote branch 'longformer_encoder_decoder' from 'origin'.\n",
            "Collecting pytorch-lightning@ git+http://github.com/ibeltagy/pytorch-lightning.git@v0.8.5_fixes#egg=pytorch-lightning\n",
            "  Cloning http://github.com/ibeltagy/pytorch-lightning.git (to revision v0.8.5_fixes) to /tmp/pip-install-wu7_c0yr/pytorch-lightning_2214ea9f59c6406d946c48683c99a2bd\n",
            "  Running command git clone -q http://github.com/ibeltagy/pytorch-lightning.git /tmp/pip-install-wu7_c0yr/pytorch-lightning_2214ea9f59c6406d946c48683c99a2bd\n",
            "  Running command git checkout -b v0.8.5_fixes --track origin/v0.8.5_fixes\n",
            "  Switched to a new branch 'v0.8.5_fixes'\n",
            "  Branch 'v0.8.5_fixes' set up to track remote branch 'v0.8.5_fixes' from 'origin'.\n",
            "  Installing build dependencies ... \u001b[?25l\u001b[?25hdone\n",
            "  Getting requirements to build wheel ... \u001b[?25l\u001b[?25hdone\n",
            "    Preparing wheel metadata ... \u001b[?25l\u001b[?25hdone\n",
            "Requirement already satisfied: torch>=1.6.0 in /usr/local/lib/python3.7/dist-packages (from longformer==0.1) (1.9.0+cu102)\n",
            "Collecting tensorboardX\n",
            "  Downloading tensorboardX-2.4-py2.py3-none-any.whl (124 kB)\n",
            "\u001b[K     |████████████████████████████████| 124 kB 7.9 MB/s \n",
            "\u001b[?25hCollecting test-tube==0.7.5\n",
            "  Downloading test_tube-0.7.5.tar.gz (21 kB)\n",
            "Collecting nlp\n",
            "  Downloading nlp-0.4.0-py3-none-any.whl (1.7 MB)\n",
            "\u001b[K     |████████████████████████████████| 1.7 MB 31.5 MB/s \n",
            "\u001b[?25hCollecting rouge_score\n",
            "  Downloading rouge_score-0.0.4-py2.py3-none-any.whl (22 kB)\n",
            "Collecting PyYAML>=5.1\n",
            "  Downloading PyYAML-5.4.1-cp37-cp37m-manylinux1_x86_64.whl (636 kB)\n",
            "\u001b[K     |████████████████████████████████| 636 kB 62.4 MB/s \n",
            "\u001b[?25hRequirement already satisfied: tqdm>=4.41.0 in /usr/local/lib/python3.7/dist-packages (from pytorch-lightning@ git+http://github.com/ibeltagy/pytorch-lightning.git@v0.8.5_fixes#egg=pytorch-lightning->longformer==0.1) (4.62.0)\n",
            "Requirement already satisfied: tensorboard>=1.14 in /usr/local/lib/python3.7/dist-packages (from pytorch-lightning@ git+http://github.com/ibeltagy/pytorch-lightning.git@v0.8.5_fixes#egg=pytorch-lightning->longformer==0.1) (2.6.0)\n",
            "Requirement already satisfied: numpy>=1.16.4 in /usr/local/lib/python3.7/dist-packages (from pytorch-lightning@ git+http://github.com/ibeltagy/pytorch-lightning.git@v0.8.5_fixes#egg=pytorch-lightning->longformer==0.1) (1.19.5)\n",
            "Collecting future>=0.17.1\n",
            "  Downloading future-0.18.2.tar.gz (829 kB)\n",
            "\u001b[K     |████████████████████████████████| 829 kB 58.5 MB/s \n",
            "\u001b[?25hCollecting tokenizers==0.8.1.rc2\n",
            "  Downloading tokenizers-0.8.1rc2-cp37-cp37m-manylinux1_x86_64.whl (3.0 MB)\n",
            "\u001b[K     |████████████████████████████████| 3.0 MB 53.4 MB/s \n",
            "\u001b[?25hRequirement already satisfied: packaging in /usr/local/lib/python3.7/dist-packages (from transformers@ git+http://github.com/ibeltagy/transformers.git@longformer_encoder_decoder#egg=transformers->longformer==0.1) (21.0)\n",
            "Requirement already satisfied: filelock in /usr/local/lib/python3.7/dist-packages (from transformers@ git+http://github.com/ibeltagy/transformers.git@longformer_encoder_decoder#egg=transformers->longformer==0.1) (3.0.12)\n",
            "Requirement already satisfied: requests in /usr/local/lib/python3.7/dist-packages (from transformers@ git+http://github.com/ibeltagy/transformers.git@longformer_encoder_decoder#egg=transformers->longformer==0.1) (2.23.0)\n",
            "Requirement already satisfied: regex!=2019.12.17 in /usr/local/lib/python3.7/dist-packages (from transformers@ git+http://github.com/ibeltagy/transformers.git@longformer_encoder_decoder#egg=transformers->longformer==0.1) (2019.12.20)\n",
            "Collecting sentencepiece!=0.1.92\n",
            "  Downloading sentencepiece-0.1.96-cp37-cp37m-manylinux_2_17_x86_64.manylinux2014_x86_64.whl (1.2 MB)\n",
            "\u001b[K     |████████████████████████████████| 1.2 MB 54.1 MB/s \n",
            "\u001b[?25hCollecting sacremoses\n",
            "  Downloading sacremoses-0.0.45-py3-none-any.whl (895 kB)\n",
            "\u001b[K     |████████████████████████████████| 895 kB 79.8 MB/s \n",
            "\u001b[?25hRequirement already satisfied: pandas>=0.20.3 in /usr/local/lib/python3.7/dist-packages (from test-tube==0.7.5->longformer==0.1) (1.1.5)\n",
            "Requirement already satisfied: imageio>=2.3.0 in /usr/local/lib/python3.7/dist-packages (from test-tube==0.7.5->longformer==0.1) (2.4.1)\n",
            "Requirement already satisfied: pillow in /usr/local/lib/python3.7/dist-packages (from imageio>=2.3.0->test-tube==0.7.5->longformer==0.1) (7.1.2)\n",
            "Requirement already satisfied: python-dateutil>=2.7.3 in /usr/local/lib/python3.7/dist-packages (from pandas>=0.20.3->test-tube==0.7.5->longformer==0.1) (2.8.2)\n",
            "Requirement already satisfied: pytz>=2017.2 in /usr/local/lib/python3.7/dist-packages (from pandas>=0.20.3->test-tube==0.7.5->longformer==0.1) (2018.9)\n",
            "Requirement already satisfied: six>=1.5 in /usr/local/lib/python3.7/dist-packages (from python-dateutil>=2.7.3->pandas>=0.20.3->test-tube==0.7.5->longformer==0.1) (1.15.0)\n",
            "Requirement already satisfied: wheel>=0.26 in /usr/local/lib/python3.7/dist-packages (from tensorboard>=1.14->pytorch-lightning@ git+http://github.com/ibeltagy/pytorch-lightning.git@v0.8.5_fixes#egg=pytorch-lightning->longformer==0.1) (0.37.0)\n",
            "Requirement already satisfied: setuptools>=41.0.0 in /usr/local/lib/python3.7/dist-packages (from tensorboard>=1.14->pytorch-lightning@ git+http://github.com/ibeltagy/pytorch-lightning.git@v0.8.5_fixes#egg=pytorch-lightning->longformer==0.1) (57.4.0)\n",
            "Requirement already satisfied: tensorboard-data-server<0.7.0,>=0.6.0 in /usr/local/lib/python3.7/dist-packages (from tensorboard>=1.14->pytorch-lightning@ git+http://github.com/ibeltagy/pytorch-lightning.git@v0.8.5_fixes#egg=pytorch-lightning->longformer==0.1) (0.6.1)\n",
            "Requirement already satisfied: werkzeug>=0.11.15 in /usr/local/lib/python3.7/dist-packages (from tensorboard>=1.14->pytorch-lightning@ git+http://github.com/ibeltagy/pytorch-lightning.git@v0.8.5_fixes#egg=pytorch-lightning->longformer==0.1) (1.0.1)\n",
            "Requirement already satisfied: google-auth-oauthlib<0.5,>=0.4.1 in /usr/local/lib/python3.7/dist-packages (from tensorboard>=1.14->pytorch-lightning@ git+http://github.com/ibeltagy/pytorch-lightning.git@v0.8.5_fixes#egg=pytorch-lightning->longformer==0.1) (0.4.5)\n",
            "Requirement already satisfied: grpcio>=1.24.3 in /usr/local/lib/python3.7/dist-packages (from tensorboard>=1.14->pytorch-lightning@ git+http://github.com/ibeltagy/pytorch-lightning.git@v0.8.5_fixes#egg=pytorch-lightning->longformer==0.1) (1.39.0)\n",
            "Requirement already satisfied: markdown>=2.6.8 in /usr/local/lib/python3.7/dist-packages (from tensorboard>=1.14->pytorch-lightning@ git+http://github.com/ibeltagy/pytorch-lightning.git@v0.8.5_fixes#egg=pytorch-lightning->longformer==0.1) (3.3.4)\n",
            "Requirement already satisfied: absl-py>=0.4 in /usr/local/lib/python3.7/dist-packages (from tensorboard>=1.14->pytorch-lightning@ git+http://github.com/ibeltagy/pytorch-lightning.git@v0.8.5_fixes#egg=pytorch-lightning->longformer==0.1) (0.12.0)\n",
            "Requirement already satisfied: protobuf>=3.6.0 in /usr/local/lib/python3.7/dist-packages (from tensorboard>=1.14->pytorch-lightning@ git+http://github.com/ibeltagy/pytorch-lightning.git@v0.8.5_fixes#egg=pytorch-lightning->longformer==0.1) (3.17.3)\n",
            "Requirement already satisfied: tensorboard-plugin-wit>=1.6.0 in /usr/local/lib/python3.7/dist-packages (from tensorboard>=1.14->pytorch-lightning@ git+http://github.com/ibeltagy/pytorch-lightning.git@v0.8.5_fixes#egg=pytorch-lightning->longformer==0.1) (1.8.0)\n",
            "Requirement already satisfied: google-auth<2,>=1.6.3 in /usr/local/lib/python3.7/dist-packages (from tensorboard>=1.14->pytorch-lightning@ git+http://github.com/ibeltagy/pytorch-lightning.git@v0.8.5_fixes#egg=pytorch-lightning->longformer==0.1) (1.34.0)\n",
            "Requirement already satisfied: rsa<5,>=3.1.4 in /usr/local/lib/python3.7/dist-packages (from google-auth<2,>=1.6.3->tensorboard>=1.14->pytorch-lightning@ git+http://github.com/ibeltagy/pytorch-lightning.git@v0.8.5_fixes#egg=pytorch-lightning->longformer==0.1) (4.7.2)\n",
            "Requirement already satisfied: cachetools<5.0,>=2.0.0 in /usr/local/lib/python3.7/dist-packages (from google-auth<2,>=1.6.3->tensorboard>=1.14->pytorch-lightning@ git+http://github.com/ibeltagy/pytorch-lightning.git@v0.8.5_fixes#egg=pytorch-lightning->longformer==0.1) (4.2.2)\n",
            "Requirement already satisfied: pyasn1-modules>=0.2.1 in /usr/local/lib/python3.7/dist-packages (from google-auth<2,>=1.6.3->tensorboard>=1.14->pytorch-lightning@ git+http://github.com/ibeltagy/pytorch-lightning.git@v0.8.5_fixes#egg=pytorch-lightning->longformer==0.1) (0.2.8)\n",
            "Requirement already satisfied: requests-oauthlib>=0.7.0 in /usr/local/lib/python3.7/dist-packages (from google-auth-oauthlib<0.5,>=0.4.1->tensorboard>=1.14->pytorch-lightning@ git+http://github.com/ibeltagy/pytorch-lightning.git@v0.8.5_fixes#egg=pytorch-lightning->longformer==0.1) (1.3.0)\n",
            "Requirement already satisfied: importlib-metadata in /usr/local/lib/python3.7/dist-packages (from markdown>=2.6.8->tensorboard>=1.14->pytorch-lightning@ git+http://github.com/ibeltagy/pytorch-lightning.git@v0.8.5_fixes#egg=pytorch-lightning->longformer==0.1) (4.6.4)\n",
            "Requirement already satisfied: pyasn1<0.5.0,>=0.4.6 in /usr/local/lib/python3.7/dist-packages (from pyasn1-modules>=0.2.1->google-auth<2,>=1.6.3->tensorboard>=1.14->pytorch-lightning@ git+http://github.com/ibeltagy/pytorch-lightning.git@v0.8.5_fixes#egg=pytorch-lightning->longformer==0.1) (0.4.8)\n",
            "Requirement already satisfied: certifi>=2017.4.17 in /usr/local/lib/python3.7/dist-packages (from requests->transformers@ git+http://github.com/ibeltagy/transformers.git@longformer_encoder_decoder#egg=transformers->longformer==0.1) (2021.5.30)\n",
            "Requirement already satisfied: idna<3,>=2.5 in /usr/local/lib/python3.7/dist-packages (from requests->transformers@ git+http://github.com/ibeltagy/transformers.git@longformer_encoder_decoder#egg=transformers->longformer==0.1) (2.10)\n",
            "Requirement already satisfied: chardet<4,>=3.0.2 in /usr/local/lib/python3.7/dist-packages (from requests->transformers@ git+http://github.com/ibeltagy/transformers.git@longformer_encoder_decoder#egg=transformers->longformer==0.1) (3.0.4)\n",
            "Requirement already satisfied: urllib3!=1.25.0,!=1.25.1,<1.26,>=1.21.1 in /usr/local/lib/python3.7/dist-packages (from requests->transformers@ git+http://github.com/ibeltagy/transformers.git@longformer_encoder_decoder#egg=transformers->longformer==0.1) (1.24.3)\n",
            "Requirement already satisfied: oauthlib>=3.0.0 in /usr/local/lib/python3.7/dist-packages (from requests-oauthlib>=0.7.0->google-auth-oauthlib<0.5,>=0.4.1->tensorboard>=1.14->pytorch-lightning@ git+http://github.com/ibeltagy/pytorch-lightning.git@v0.8.5_fixes#egg=pytorch-lightning->longformer==0.1) (3.1.1)\n",
            "Requirement already satisfied: typing-extensions in /usr/local/lib/python3.7/dist-packages (from torch>=1.6.0->longformer==0.1) (3.7.4.3)\n",
            "Requirement already satisfied: zipp>=0.5 in /usr/local/lib/python3.7/dist-packages (from importlib-metadata->markdown>=2.6.8->tensorboard>=1.14->pytorch-lightning@ git+http://github.com/ibeltagy/pytorch-lightning.git@v0.8.5_fixes#egg=pytorch-lightning->longformer==0.1) (3.5.0)\n",
            "Requirement already satisfied: pyarrow>=0.16.0 in /usr/local/lib/python3.7/dist-packages (from nlp->longformer==0.1) (3.0.0)\n",
            "Requirement already satisfied: dill in /usr/local/lib/python3.7/dist-packages (from nlp->longformer==0.1) (0.3.4)\n",
            "Collecting xxhash\n",
            "  Downloading xxhash-2.0.2-cp37-cp37m-manylinux2010_x86_64.whl (243 kB)\n",
            "\u001b[K     |████████████████████████████████| 243 kB 93.0 MB/s \n",
            "\u001b[?25hRequirement already satisfied: pyparsing>=2.0.2 in /usr/local/lib/python3.7/dist-packages (from packaging->transformers@ git+http://github.com/ibeltagy/transformers.git@longformer_encoder_decoder#egg=transformers->longformer==0.1) (2.4.7)\n",
            "Requirement already satisfied: nltk in /usr/local/lib/python3.7/dist-packages (from rouge_score->longformer==0.1) (3.2.5)\n",
            "Requirement already satisfied: click in /usr/local/lib/python3.7/dist-packages (from sacremoses->transformers@ git+http://github.com/ibeltagy/transformers.git@longformer_encoder_decoder#egg=transformers->longformer==0.1) (7.1.2)\n",
            "Requirement already satisfied: joblib in /usr/local/lib/python3.7/dist-packages (from sacremoses->transformers@ git+http://github.com/ibeltagy/transformers.git@longformer_encoder_decoder#egg=transformers->longformer==0.1) (1.0.1)\n",
            "Building wheels for collected packages: longformer, pytorch-lightning, transformers, test-tube, future\n",
            "  Building wheel for longformer (setup.py) ... \u001b[?25l\u001b[?25hdone\n",
            "  Created wheel for longformer: filename=longformer-0.1-py3-none-any.whl size=548881 sha256=b537bf56388a60ed51f32d3327362a304ba70b0bbb884628a9c266a1c4fafc6c\n",
            "  Stored in directory: /tmp/pip-ephem-wheel-cache-d20hl_zk/wheels/7c/41/20/fe876adf5a7678cb0251bf5b0edf36ccd27b85ebf66af1de87\n",
            "  Building wheel for pytorch-lightning (PEP 517) ... \u001b[?25l\u001b[?25hdone\n",
            "  Created wheel for pytorch-lightning: filename=pytorch_lightning-0.8.5-py3-none-any.whl size=313145 sha256=fdf41edc99a35ed11f76957adb704ccb169cdb51316347893719c4f2d5b34d5e\n",
            "  Stored in directory: /tmp/pip-ephem-wheel-cache-d20hl_zk/wheels/05/24/bc/a000afe7f4f81fdfeeb4a899f692a2ef5b69ad72d46807dfd9\n",
            "  Building wheel for transformers (setup.py) ... \u001b[?25l\u001b[?25hdone\n",
            "  Created wheel for transformers: filename=transformers-3.1.0-py3-none-any.whl size=884327 sha256=1a047de24a88508c5af4d07211b06ef2935374a044da38915d4c43c2980e9100\n",
            "  Stored in directory: /tmp/pip-ephem-wheel-cache-d20hl_zk/wheels/78/48/18/2bd2e49cbb438b9d61fd0e424769976de03d7ba9ce75b0b344\n",
            "  Building wheel for test-tube (setup.py) ... \u001b[?25l\u001b[?25hdone\n",
            "  Created wheel for test-tube: filename=test_tube-0.7.5-py3-none-any.whl size=25357 sha256=3eeb30b30906a220c0b97f8d793c9f4dbaae7f86d06f6f4b0966bff6e22f4d75\n",
            "  Stored in directory: /root/.cache/pip/wheels/1c/50/0d/15b3236957cc18a5c39ec4d4d4d21624f4d4a876756ec17064\n",
            "  Building wheel for future (setup.py) ... \u001b[?25l\u001b[?25hdone\n",
            "  Created wheel for future: filename=future-0.18.2-py3-none-any.whl size=491070 sha256=6a799c33ccefa5ce7fe1151f2f1dd5c65a8ca23841788e396f16011a05a63b51\n",
            "  Stored in directory: /root/.cache/pip/wheels/56/b0/fe/4410d17b32f1f0c3cf54cdfb2bc04d7b4b8f4ae377e2229ba0\n",
            "Successfully built longformer pytorch-lightning transformers test-tube future\n",
            "Installing collected packages: xxhash, tokenizers, sentencepiece, sacremoses, PyYAML, future, transformers, test-tube, tensorboardX, rouge-score, pytorch-lightning, nlp, longformer\n",
            "  Attempting uninstall: PyYAML\n",
            "    Found existing installation: PyYAML 3.13\n",
            "    Uninstalling PyYAML-3.13:\n",
            "      Successfully uninstalled PyYAML-3.13\n",
            "  Attempting uninstall: future\n",
            "    Found existing installation: future 0.16.0\n",
            "    Uninstalling future-0.16.0:\n",
            "      Successfully uninstalled future-0.16.0\n",
            "Successfully installed PyYAML-5.4.1 future-0.18.2 longformer-0.1 nlp-0.4.0 pytorch-lightning-0.8.5 rouge-score-0.0.4 sacremoses-0.0.45 sentencepiece-0.1.96 tensorboardX-2.4 test-tube-0.7.5 tokenizers-0.8.1rc2 transformers-3.1.0 xxhash-2.0.2\n"
          ]
        }
      ]
    },
    {
      "cell_type": "code",
      "metadata": {
        "colab": {
          "base_uri": "https://localhost:8080/",
          "height": 35
        },
        "id": "1-Nq7PwCDCrq",
        "outputId": "8c598736-957d-4843-f260-0ef05d552a11"
      },
      "source": [
        "from torch import cuda\n",
        "device = 'cuda' if cuda.is_available() else 'cpu'\n",
        "device"
      ],
      "execution_count": 3,
      "outputs": [
        {
          "output_type": "execute_result",
          "data": {
            "application/vnd.google.colaboratory.intrinsic+json": {
              "type": "string"
            },
            "text/plain": [
              "'cuda'"
            ]
          },
          "metadata": {},
          "execution_count": 3
        }
      ]
    },
    {
      "cell_type": "code",
      "metadata": {
        "colab": {
          "base_uri": "https://localhost:8080/",
          "height": 35
        },
        "id": "hKAy9XshDF1r",
        "outputId": "e4352865-1ba9-402c-dfa0-992968e9ac1d"
      },
      "source": [
        "import torch\n",
        "torch.__version__"
      ],
      "execution_count": 4,
      "outputs": [
        {
          "output_type": "execute_result",
          "data": {
            "application/vnd.google.colaboratory.intrinsic+json": {
              "type": "string"
            },
            "text/plain": [
              "'1.9.0+cu102'"
            ]
          },
          "metadata": {},
          "execution_count": 4
        }
      ]
    },
    {
      "cell_type": "code",
      "metadata": {
        "colab": {
          "base_uri": "https://localhost:8080/"
        },
        "id": "OBHccmgn1vyY",
        "outputId": "da3520d4-b959-4a25-fc24-6441d57bfa89"
      },
      "source": [
        "import numpy as np\n",
        "import pandas as pd\n",
        "from sklearn import metrics\n",
        "from sklearn.utils import shuffle\n",
        "import transformers\n",
        "import torch\n",
        "from torch.utils.data import Dataset, DataLoader, RandomSampler, SequentialSampler\n",
        "from transformers import RobertaConfig, RobertaModel, RobertaTokenizer\n",
        "import nltk\n",
        "nltk.download('stopwords')\n",
        "from nltk.corpus import stopwords\n",
        "import contractions\n",
        "import inspect\n",
        "import re\n",
        "import random\n",
        "import glob\n",
        "import re\n",
        "import matplotlib.gridspec as gridspec\n",
        "import seaborn\n",
        "from sklearn.metrics import f1_score, precision_score, recall_score, accuracy_score\n",
        "import matplotlib.pyplot as plt\n",
        "from tqdm import tqdm"
      ],
      "execution_count": 5,
      "outputs": [
        {
          "output_type": "stream",
          "name": "stdout",
          "text": [
            "[nltk_data] Downloading package stopwords to /root/nltk_data...\n",
            "[nltk_data]   Unzipping corpora/stopwords.zip.\n"
          ]
        }
      ]
    },
    {
      "cell_type": "code",
      "metadata": {
        "id": "iS_1a0XL1vvf"
      },
      "source": [
        "df_1=pd.read_excel('/content/gdrive/MyDrive/Updated_Model_Notebooks/belltire_16_indicator/training data/Belle Tire Data for Model Training 23-08-2021.xlsx',sheet_name='Belle Tire')"
      ],
      "execution_count": 6,
      "outputs": []
    },
    {
      "cell_type": "code",
      "metadata": {
        "id": "uOTEAx4i_dLq"
      },
      "source": [
        "df_1"
      ],
      "execution_count": null,
      "outputs": []
    },
    {
      "cell_type": "code",
      "metadata": {
        "colab": {
          "base_uri": "https://localhost:8080/"
        },
        "id": "Wt3oCeEU1vst",
        "outputId": "7a19b301-5118-4b73-a5a9-07a0b80c3f78"
      },
      "source": [
        "df_1.columns"
      ],
      "execution_count": 8,
      "outputs": [
        {
          "output_type": "execute_result",
          "data": {
            "text/plain": [
              "Index(['Timestamp', 'Date', 'Recording', 'ConvirzaId', 'Scorer Name', 'Type',\n",
              "       'Agent', 'Call Title', 'Group', 'Client Company Name', 'Industry Label',\n",
              "       'Was work order written?', 'Greeting- Thank You',\n",
              "       'Greeting- Agent Name', 'Greeting- Offer Help',\n",
              "       'Qualifying- Assume Ownership ', 'Qualifying- Agent Empathy',\n",
              "       'Qualifying- Ask about vehicle', 'Recommend- Lowest price',\n",
              "       'Recommend- Lifetime benefits', 'Recommend- Features/benefits',\n",
              "       'Recommend- Out the door price', 'Assuming the Visit',\n",
              "       'Overcoming Objections', 'Benediction- Close with Thank you',\n",
              "       'Benediction- Close with Thank you and Reinforcement',\n",
              "       'Recommend- Least expensive', 'Transcript', 'Indexes',\n",
              "       'Agent/Caller Transcript', 'Unnamed: 30', 'Unnamed: 31', 'Unnamed: 32',\n",
              "       'Unnamed: 33'],\n",
              "      dtype='object')"
            ]
          },
          "metadata": {},
          "execution_count": 8
        }
      ]
    },
    {
      "cell_type": "code",
      "metadata": {
        "id": "9QpHE4IB2EUt"
      },
      "source": [
        "columns_name=['Was work order written?',\n",
        "       'Greeting- Thank You', 'Greeting- Agent Name', 'Greeting- Offer Help',\n",
        "       'Qualifying- Assume Ownership ', 'Qualifying- Agent Empathy',\n",
        "       'Qualifying- Ask about vehicle', 'Recommend- Lowest price',\n",
        "       'Recommend- Lifetime benefits', 'Recommend- Features/benefits',\n",
        "       'Recommend- Out the door price', 'Assuming the Visit',\n",
        "       'Overcoming Objections', 'Benediction- Close with Thank you',\n",
        "       'Benediction- Close with Thank you and Reinforcement',\n",
        "       'Recommend- Least expensive','Agent/Caller Transcript']"
      ],
      "execution_count": 9,
      "outputs": []
    },
    {
      "cell_type": "code",
      "metadata": {
        "id": "45T5eu8Q2EOD"
      },
      "source": [
        "df_1"
      ],
      "execution_count": null,
      "outputs": []
    },
    {
      "cell_type": "code",
      "metadata": {
        "id": "EH1YAWpiBKQ-",
        "colab": {
          "base_uri": "https://localhost:8080/"
        },
        "outputId": "87aacef4-a342-4aa5-bccf-0303c1ef4145"
      },
      "source": [
        "df_3=df_1.copy()\n",
        "df_3.shape"
      ],
      "execution_count": 11,
      "outputs": [
        {
          "output_type": "execute_result",
          "data": {
            "text/plain": [
              "(7519, 34)"
            ]
          },
          "metadata": {},
          "execution_count": 11
        }
      ]
    },
    {
      "cell_type": "code",
      "metadata": {
        "colab": {
          "base_uri": "https://localhost:8080/"
        },
        "id": "X5LcPGGV1vpf",
        "outputId": "c2c2b28a-5d3d-4e13-b9b0-03faf1e5044f"
      },
      "source": [
        "df_3.info()"
      ],
      "execution_count": 12,
      "outputs": [
        {
          "output_type": "stream",
          "name": "stdout",
          "text": [
            "<class 'pandas.core.frame.DataFrame'>\n",
            "RangeIndex: 7519 entries, 0 to 7518\n",
            "Data columns (total 34 columns):\n",
            " #   Column                                               Non-Null Count  Dtype  \n",
            "---  ------                                               --------------  -----  \n",
            " 0   Timestamp                                            7519 non-null   object \n",
            " 1   Date                                                 7519 non-null   object \n",
            " 2   Recording                                            7519 non-null   object \n",
            " 3   ConvirzaId                                           7519 non-null   int64  \n",
            " 4   Scorer Name                                          7519 non-null   object \n",
            " 5   Type                                                 7519 non-null   object \n",
            " 6   Agent                                                4966 non-null   object \n",
            " 7   Call Title                                           7519 non-null   object \n",
            " 8   Group                                                5754 non-null   object \n",
            " 9   Client Company Name                                  0 non-null      float64\n",
            " 10  Industry Label                                       7519 non-null   object \n",
            " 11  Was work order written?                              7519 non-null   int64  \n",
            " 12  Greeting- Thank You                                  7519 non-null   int64  \n",
            " 13  Greeting- Agent Name                                 7519 non-null   int64  \n",
            " 14  Greeting- Offer Help                                 7519 non-null   int64  \n",
            " 15  Qualifying- Assume Ownership                         7519 non-null   int64  \n",
            " 16  Qualifying- Agent Empathy                            7519 non-null   int64  \n",
            " 17  Qualifying- Ask about vehicle                        7519 non-null   int64  \n",
            " 18  Recommend- Lowest price                              7519 non-null   int64  \n",
            " 19  Recommend- Lifetime benefits                         7519 non-null   int64  \n",
            " 20  Recommend- Features/benefits                         7519 non-null   int64  \n",
            " 21  Recommend- Out the door price                        7519 non-null   int64  \n",
            " 22  Assuming the Visit                                   7519 non-null   int64  \n",
            " 23  Overcoming Objections                                7519 non-null   int64  \n",
            " 24  Benediction- Close with Thank you                    7519 non-null   int64  \n",
            " 25  Benediction- Close with Thank you and Reinforcement  7519 non-null   int64  \n",
            " 26  Recommend- Least expensive                           7519 non-null   int64  \n",
            " 27  Transcript                                           7519 non-null   object \n",
            " 28  Indexes                                              7519 non-null   object \n",
            " 29  Agent/Caller Transcript                              7515 non-null   object \n",
            " 30  Unnamed: 30                                          3808 non-null   object \n",
            " 31  Unnamed: 31                                          3808 non-null   object \n",
            " 32  Unnamed: 32                                          368 non-null    object \n",
            " 33  Unnamed: 33                                          368 non-null    object \n",
            "dtypes: float64(1), int64(17), object(16)\n",
            "memory usage: 2.0+ MB\n"
          ]
        }
      ]
    },
    {
      "cell_type": "markdown",
      "metadata": {
        "id": "hZlL8JNtCPUJ"
      },
      "source": [
        "## Data cleaning"
      ]
    },
    {
      "cell_type": "code",
      "metadata": {
        "id": "z-2FUsdtCOmE",
        "colab": {
          "base_uri": "https://localhost:8080/",
          "height": 81,
          "referenced_widgets": [
            "8ba1daecb8f743a69e12229b8db1d78f",
            "c9d1eae1f835478f824acab270579d6c",
            "92ecf119f13b4a569028d357072ff533",
            "41d938070e204474aeda447059ac9e97",
            "40fe1bf9dcd44081a9e74021f215037e",
            "fe0bdbe53bbe43d19c0b85b71a2bd4df",
            "111d0a26082b4e44a9e0d3791d0ddc03",
            "3bc7a2597ac14d4e8a1fa85c7808c874",
            "534ed3bd93bf488aa836b7d4d4635617",
            "4832422bdf4a45e0ae877e3998b63400",
            "e06662854aaa4c0e8d3ee4f6559598ec",
            "32419fa07e9e44048f908bfc5299940c",
            "3d463f6a925e48a98eab2aa319bb8547",
            "6224aaea708147a8ba1242496c5b7a13",
            "ea61c843b9d84a368c067161f46c8040",
            "d26b4a8b7d4d4f5cb26870170788464b",
            "6cd41790adce47ea8126784a608dc990",
            "ede59b0e612d431a8ecaea7430b87976",
            "b9ffc2f695984a06b63e2c1d71f6d19c",
            "02eb718da6614c0f947b008ad9406e67",
            "5d5417f6487a467c93803b86c514fc7d",
            "35e6e75846774e9e9244c4bffe97342a"
          ]
        },
        "outputId": "efdf5c10-9b73-4d10-9939-dbcd35828691"
      },
      "source": [
        "import re\n",
        "import os\n",
        "from longformer.longformer import Longformer, LongformerConfig\n",
        "from transformers import LongformerTokenizer, LongformerForSequenceClassification\n",
        "from longformer.sliding_chunks import pad_to_window_size\n",
        "from transformers import RobertaTokenizer\n",
        "#config = LongformerConfig.from_pretrained('/content/gdrive/MyDrive/longformer-base-4096/')\n",
        "\n",
        "MAX_LEN=1024\n",
        "tokenizer=LongformerTokenizer.from_pretrained('allenai/longformer-base-4096')\n",
        "\n",
        "def pre_process(text):\n",
        "  fillerWord = (\"so\",\"yeah\",\"okay\",\"um\",\"uh\",\"mmm\",\"ahan\",\"uh\",\"huh\",\"ahm\",\"oh\",\"sooo\",\"uh\",\"huh\",\"yeh\",\"yah\",\"hmm\",\"bye\")\n",
        "  fillerword_reg= \"bye[.,]|so[.,]|yeah[.,]|okay[.,]|um[.,]|uh[.,]|mmm[.,]|ahan[.,]|uh[.,]|huh[.,]|ahm[.,]|oh[.,]|sooo[.,]|uh[.,]|huh[.,]|yeh[.,]|yah[.,]|hmm[.,]\"\n",
        "  # STOPWORDS = set(stopwords.words('english'))\n",
        "  #STOPWORDS.add(fillerWord)  \n",
        "  STOPWORDS=fillerWord\n",
        " \n",
        "  # that's, we'll, can't ...\n",
        "  text=contractions.fix(text,slang=False)\n",
        "  text=text.replace(':',' ')\n",
        "  # that is, we will, can not ...\n",
        "  text=' '.join(word for word in text.lower().split() if word not in STOPWORDS)\n",
        "  filler=re.compile(fillerword_reg)\n",
        "  text=filler.sub(\"\",text)\n",
        "  # text_sw.append(contractions.fix(i.lower(),slang=False))\n",
        "  return text\n",
        "\n",
        "class CustomDataset(Dataset):\n",
        "    def __init__(self, dataframe, tokenizer, max_len):\n",
        "        self.tokenizer = tokenizer\n",
        "        self.data = dataframe\n",
        "        self.comment_text = dataframe.comment_text.values.tolist()\n",
        "        #self.targets = self.data.list\n",
        "        self.targets = self.data['list'].values.tolist()\n",
        "        self.max_len = max_len\n",
        "\n",
        "    def __len__(self):\n",
        "        return len(self.comment_text)\n",
        "    def __getitem__(self, index):\n",
        "        comment_text = str(self.comment_text[index])\n",
        "        comment_text = \" \".join(comment_text.split())\n",
        "\n",
        "        inputs = self.tokenizer.encode_plus(\n",
        "            comment_text,\n",
        "            None,\n",
        "            add_special_tokens=True,\n",
        "            max_length=self.max_len,\n",
        "            pad_to_max_length=True,\n",
        "            return_token_type_ids=True,\n",
        "            truncation=True,return_tensors=\"pt\"\n",
        "        )\n",
        "        ids = inputs['input_ids'].to(device)\n",
        "        mask = inputs['attention_mask'].to(device)\n",
        "        token_type_ids = inputs[\"token_type_ids\"].to(device)\n",
        "\n",
        "\n",
        "        return {\n",
        "            'ids': ids,\n",
        "            'mask': mask,\n",
        "            'token_type_ids': token_type_ids,\n",
        "            'targets': torch.tensor(self.targets[index], dtype=torch.long).to(device)\n",
        "        }"
      ],
      "execution_count": 13,
      "outputs": [
        {
          "output_type": "display_data",
          "data": {
            "application/vnd.jupyter.widget-view+json": {
              "model_id": "8ba1daecb8f743a69e12229b8db1d78f",
              "version_minor": 0,
              "version_major": 2
            },
            "text/plain": [
              "Downloading:   0%|          | 0.00/899k [00:00<?, ?B/s]"
            ]
          },
          "metadata": {}
        },
        {
          "output_type": "display_data",
          "data": {
            "application/vnd.jupyter.widget-view+json": {
              "model_id": "32419fa07e9e44048f908bfc5299940c",
              "version_minor": 0,
              "version_major": 2
            },
            "text/plain": [
              "Downloading:   0%|          | 0.00/456k [00:00<?, ?B/s]"
            ]
          },
          "metadata": {}
        }
      ]
    },
    {
      "cell_type": "code",
      "metadata": {
        "colab": {
          "base_uri": "https://localhost:8080/"
        },
        "id": "IY9BU72IRjeb",
        "outputId": "4d19b00d-babd-4a49-866b-f2fccb5ec837"
      },
      "source": [
        "label_conversion={'Was work order written?':0,\n",
        "       'Greeting- Thank You':1, 'Greeting- Agent Name':2, 'Greeting- Offer Help':3,\n",
        "       'Qualifying- Assume Ownership ':4, 'Qualifying- Agent Empathy':5,\n",
        "       'Qualifying- Ask about vehicle':6, 'Recommend- Lowest price':7,\n",
        "       'Recommend- Lifetime benefits':8, 'Recommend- Features/benefits':9,\n",
        "       'Recommend- Out the door price':10, 'Assuming the Visit':11,\n",
        "       'Overcoming Objections':12, 'Benediction- Close with Thank you':13,\n",
        "       'Benediction- Close with Thank you and Reinforcement':14,\n",
        "       'Recommend- Least expensive':15,'Agent/Caller Transcript':'Agent/Caller Transcript'}\n",
        "a=list(label_conversion.values())\n",
        "print(a)"
      ],
      "execution_count": 14,
      "outputs": [
        {
          "output_type": "stream",
          "name": "stdout",
          "text": [
            "[0, 1, 2, 3, 4, 5, 6, 7, 8, 9, 10, 11, 12, 13, 14, 15, 'Agent/Caller Transcript']\n"
          ]
        }
      ]
    },
    {
      "cell_type": "code",
      "metadata": {
        "id": "8Lr8k5EW5T13"
      },
      "source": [
        "def training_data_s3(training_dir=''):\n",
        "    column_slection=['Was work order written?',\n",
        "       'Greeting- Thank You', 'Greeting- Agent Name', 'Greeting- Offer Help',\n",
        "       'Qualifying- Assume Ownership ', 'Qualifying- Agent Empathy',\n",
        "       'Qualifying- Ask about vehicle', 'Recommend- Lowest price',\n",
        "       'Recommend- Lifetime benefits', 'Recommend- Features/benefits',\n",
        "       'Recommend- Out the door price', 'Assuming the Visit',\n",
        "       'Overcoming Objections', 'Benediction- Close with Thank you',\n",
        "       'Benediction- Close with Thank you and Reinforcement',\n",
        "       'Recommend- Least expensive','Agent/Caller Transcript']\n",
        "    data =df_3[column_slection]\n",
        "    print(data.shape)\n",
        "    data=data.dropna(subset=[\"Agent/Caller Transcript\"]) # drop rows where transcript == \"\" or nan\n",
        "    print('data shape: ',data.shape)\n",
        "    duplicates = data[data['Agent/Caller Transcript'].duplicated() == True].index #Remove duplicates based on transcript\n",
        "    data.drop(index=duplicates, inplace=True, axis=0)\n",
        "    print('data shape after removing duplicates : ',data.shape)\n",
        "    data=data[data['Qualifying- Assume Ownership '].notna()].reset_index()\n",
        "    del data['index']\n",
        "    data.columns=label_conversion.values()\n",
        "    data=data\n",
        "    return data\n",
        "\n",
        "def _get_data_loader(batch_size, training_dir,is_distributed=False):\n",
        "    data=training_data_s3(training_dir)\n",
        "    data=data.dropna(subset=[\"Agent/Caller Transcript\"]) # drop rows where transcript == \"\" or nan\n",
        "    columns_label=list(label_conversion.values())\n",
        "    columns_label=columns_label[:-1]\n",
        "    print(\"columns_label\",columns_label)\n",
        "    print(\"columns_label len\",len(columns_label))\n",
        "    labels=data[columns_label]\n",
        "    labels=labels.values.tolist()\n",
        "    text=data[\"Agent/Caller Transcript\"]\n",
        "    text_sw=[]\n",
        "    lengths_sw=[]\n",
        "    for i in text.values.tolist():\n",
        "      text = pre_process(i)\n",
        "      text_sw.append(text)\n",
        "      lengths_sw.append(len(text.split()))\n",
        "\n",
        "    lengths_sw=np.asarray(lengths_sw)\n",
        "    indexes_lt_1 = np.where (lengths_sw<=512)\n",
        "   \n",
        "    # print('indexes_lt_1',indexes_lt_1)\n",
        "    text_new_1 = np.asarray(text_sw)[indexes_lt_1[0]]\n",
        "    labels_new_1 = np.asarray(labels)[indexes_lt_1[0]]\n",
        "\n",
        "    indexes_lt_2 = np.where (lengths_sw > 512)\n",
        "    text_new_2 = np.asarray(text_sw)[indexes_lt_2[0]]\n",
        "    labels_new_2 = np.asarray(labels)[indexes_lt_2[0]]\n",
        "\n",
        "    modulo = len(text_new_1) % batch_size\n",
        "    # print('modulo:',modulo)\n",
        "    size=batch_size - modulo\n",
        "    # print('size=batch_size - modulo:',size)\n",
        "    rand_indexes = np.random.randint(len(text_new_1), size=batch_size - modulo)\n",
        "    # print(rand_indexes)\n",
        "    filler_text_1 = text_new_1[rand_indexes]\n",
        "    filler_labels_1 = labels_new_1[rand_indexes]\n",
        "    # print(len(text_new_1))\n",
        "    # modulo = len(text_new_2) % batch_size\n",
        "    rand_indexes = np.random.randint(len(text_new_2), size=batch_size - modulo)\n",
        "    filler_text_2 = text_new_2[rand_indexes]\n",
        "    filler_labels_2 = labels_new_2[rand_indexes]\n",
        "    text_new_1 = np.concatenate([text_new_1, filler_text_1])\n",
        "    labels_new_1 = np.concatenate([labels_new_1, filler_labels_1])\n",
        "    # print(len(text_new_1))\n",
        "    text_new_2 = np.concatenate([text_new_2, filler_text_2])\n",
        "    labels_new_2 = np.concatenate([labels_new_2, filler_labels_2])\n",
        "    \n",
        "    text_new_1 = list(text_new_1)\n",
        "    labels_new_1 = list(labels_new_1)\n",
        "\n",
        "    text_new_2 = list(text_new_2)\n",
        "    labels_new_2 = list(labels_new_2)\n",
        "\n",
        "    new_df1 = pd.DataFrame({'comment_text':text_new_1, 'list':labels_new_1})\n",
        "    train_samples1 = np.ceil((new_df1.shape[0]/batch_size)*0.8)\n",
        "    train_dataset1 = new_df1.sample(n=int(train_samples1*batch_size),random_state=200)\n",
        "    test_dataset1 = new_df1.drop(train_dataset1.index).reset_index(drop=True)\n",
        "    #print( test_dataset1['comment_text'][0])\n",
        "    \n",
        "    new_df2 = pd.DataFrame({'comment_text':text_new_2, 'list':labels_new_2})\n",
        "    train_samples2 = np.ceil((new_df2.shape[0]/batch_size)*0.8)\n",
        "    # print('train_samples2',train_samples2)\n",
        "    train_dataset2 = new_df2.sample(n=int(train_samples2*batch_size),random_state=200)\n",
        "    test_dataset2 = new_df2.drop(train_dataset2.index).reset_index(drop=True)\n",
        "    print (train_samples2, test_dataset2.shape)\n",
        "    #print( test_dataset1['comment_text'][0])\n",
        "    test_dataset = pd.concat([test_dataset1,test_dataset2], ignore_index=True,axis=0).reset_index(drop=True)\n",
        "    train_dataset = pd.concat([train_dataset1,train_dataset2], ignore_index=True,axis=0).reset_index(drop=True)\n",
        "\n",
        "    print(\"TRAIN Dataset: {}\".format(train_dataset.shape))\n",
        "    print(\"TEST Dataset: {}\".format(test_dataset.shape))\n",
        "    print (test_dataset.head(5))\n",
        "    test_set = CustomDataset(test_dataset, tokenizer, MAX_LEN)\n",
        "    training_set=CustomDataset(train_dataset,tokenizer,MAX_LEN)\n",
        "    \n",
        "    if is_distributed:\n",
        "        test_sampler = torch.utils.data.distributed.DistributedSampler(test_set)\n",
        "        test_dataloader = DataLoader(test_set, sampler=test_sampler, batch_size=batch_size,drop_last=True)\n",
        "        train_sampler = torch.utils.data.distributed.DistributedSampler(train_dataset)\n",
        "        train_dataloader = DataLoader(training_set, sampler=train_sampler, batch_size=batch_size,drop_last=True)\n",
        "    else:\n",
        "        test_dataloader = DataLoader(test_set, shuffle=False, batch_size=batch_size,drop_last=True)\n",
        "        train_dataloader = DataLoader(training_set, shuffle=False, batch_size=batch_size,drop_last=True)\n",
        "    return test_dataloader,test_dataset,train_dataloader,train_dataset"
      ],
      "execution_count": 15,
      "outputs": []
    },
    {
      "cell_type": "markdown",
      "metadata": {
        "id": "dnPyPyhE7Vpu"
      },
      "source": [
        "# DataLoader"
      ]
    },
    {
      "cell_type": "code",
      "metadata": {
        "colab": {
          "base_uri": "https://localhost:8080/"
        },
        "id": "WddyUtjsNwDO",
        "outputId": "ad101abc-a32a-4355-a5da-49ae4bd0d8af"
      },
      "source": [
        "s3_data=training_data_s3(training_dir='')"
      ],
      "execution_count": 16,
      "outputs": [
        {
          "output_type": "stream",
          "name": "stdout",
          "text": [
            "(7519, 17)\n",
            "data shape:  (7515, 17)\n",
            "data shape after removing duplicates :  (7374, 17)\n"
          ]
        }
      ]
    },
    {
      "cell_type": "code",
      "metadata": {
        "colab": {
          "base_uri": "https://localhost:8080/"
        },
        "id": "h1IQo36K1vkz",
        "outputId": "eb7e7b3f-e189-4072-8361-e8c25b0746cf"
      },
      "source": [
        "testing_loader,test_dataset,train_loader,train_dataset = _get_data_loader(4,training_dir='')"
      ],
      "execution_count": 17,
      "outputs": [
        {
          "output_type": "stream",
          "name": "stdout",
          "text": [
            "(7519, 17)\n",
            "data shape:  (7515, 17)\n",
            "data shape after removing duplicates :  (7374, 17)\n",
            "columns_label [0, 1, 2, 3, 4, 5, 6, 7, 8, 9, 10, 11, 12, 13, 14, 15]\n",
            "columns_label len 16\n",
            "722.0 (720, 2)\n",
            "TRAIN Dataset: (5908, 2)\n",
            "TEST Dataset: (1472, 2)\n",
            "                                        comment_text                                              list\n",
            "0  agent this call may be monitored and recorded ...  [0, 1, 1, 1, 1, 0, 1, 1, 1, 1, 1, 1, 0, 0, 0, 1]\n",
            "1  agent this call may be monitored and recorded ...  [0, 0, 1, 0, 0, 0, 1, 0, 1, 1, 1, 1, 0, 0, 1, 1]\n",
            "2  agent this call may be monitored and recorded ...  [0, 1, 1, 1, 0, 0, 1, 0, 0, 1, 1, 0, 0, 0, 0, 0]\n",
            "3  agent this call may be monitored and recorded ...  [0, 1, 1, 1, 1, 0, 1, 1, 1, 0, 1, 0, 0, 0, 0, 1]\n",
            "4  agent this call may be monitored and recorded ...  [0, 1, 0, 1, 0, 0, 1, 0, 0, 0, 1, 0, 0, 0, 0, 0]\n"
          ]
        }
      ]
    },
    {
      "cell_type": "code",
      "metadata": {
        "colab": {
          "base_uri": "https://localhost:8080/"
        },
        "id": "FsQYDNbnTXrp",
        "outputId": "2de12a3c-e153-4eff-cc82-9257cfbdf658"
      },
      "source": [
        "y = iter(testing_loader).next()\n",
        "y[\"targets\"].shape"
      ],
      "execution_count": 18,
      "outputs": [
        {
          "output_type": "stream",
          "name": "stderr",
          "text": [
            "/usr/local/lib/python3.7/dist-packages/transformers/tokenization_utils_base.py:1770: FutureWarning: The `pad_to_max_length` argument is deprecated and will be removed in a future version, use `padding=True` or `padding='longest'` to pad to the longest sequence in the batch, or use `padding='max_length'` to pad to a max length. In this case, you can give a specific length with `max_length` (e.g. `max_length=45`) or leave max_length to None to pad to the maximal input size of the model (e.g. 512 for Bert).\n",
            "  FutureWarning,\n"
          ]
        },
        {
          "output_type": "execute_result",
          "data": {
            "text/plain": [
              "torch.Size([4, 16])"
            ]
          },
          "metadata": {},
          "execution_count": 18
        }
      ]
    },
    {
      "cell_type": "code",
      "metadata": {
        "colab": {
          "base_uri": "https://localhost:8080/"
        },
        "id": "O_Opnb9Fj3LQ",
        "outputId": "4e56ffc3-dbed-473f-db70-bf3f286ad260"
      },
      "source": [
        "y[\"ids\"].shape, y[\"mask\"].shape,y[\"targets\"].shape"
      ],
      "execution_count": 19,
      "outputs": [
        {
          "output_type": "execute_result",
          "data": {
            "text/plain": [
              "(torch.Size([4, 1, 1024]), torch.Size([4, 1, 1024]), torch.Size([4, 16]))"
            ]
          },
          "metadata": {},
          "execution_count": 19
        }
      ]
    },
    {
      "cell_type": "code",
      "metadata": {
        "id": "C_Jf9a6Yj_aD"
      },
      "source": [
        "import tarfile\n",
        "import requests\n",
        "from longformer.longformer import LongformerConfig\n",
        "\n",
        "#download longformer-base-4096.tar.gz \n",
        "fname = 'longformer-base-4096.tar.gz'\n",
        "url = 'https://ai2-s2-research.s3-us-west-2.amazonaws.com/longformer/' + fname\n",
        "r = requests.get(url)\n",
        "open(fname , 'wb').write(r.content)\n",
        "# longformer-base-4096.tar.gz \n",
        "tar = tarfile.open(fname)\n",
        "tar.extractall()\n",
        "tar.close()\n",
        "\n",
        "config = LongformerConfig.from_pretrained('longformer-base-4096/') \n",
        "config.attention_mode = 'sliding_chunks'\n",
        "# config.attention_window=window_size"
      ],
      "execution_count": 20,
      "outputs": []
    },
    {
      "cell_type": "code",
      "metadata": {
        "colab": {
          "base_uri": "https://localhost:8080/"
        },
        "id": "HoyIJFcPj_WD",
        "outputId": "1d1f935d-a661-4914-ee1d-ef8762ae75c4"
      },
      "source": [
        "# BERTClass and model creation\n",
        "class BERTClass(torch.nn.Module):\n",
        "    def __init__(self):\n",
        "        super(BERTClass, self).__init__()\n",
        "        self.l1 = Longformer.from_pretrained('longformer-base-4096/', config=config)\n",
        "        self.l2 = torch.nn.Dropout(0.3)\n",
        "        self.l3 = torch.nn.Linear(768, 16)\n",
        "    \n",
        "    def forward(self, ids, mask, token_type_ids):\n",
        "        _, output_1= self.l1(ids, attention_mask = mask, token_type_ids = token_type_ids)\n",
        "        output_2 = self.l2(output_1)\n",
        "        output = self.l3(output_2)\n",
        "        return output\n",
        "\n",
        "model = BERTClass()\n",
        "model.to(device)"
      ],
      "execution_count": 21,
      "outputs": [
        {
          "output_type": "execute_result",
          "data": {
            "text/plain": [
              "BERTClass(\n",
              "  (l1): Longformer(\n",
              "    (embeddings): RobertaEmbeddings(\n",
              "      (word_embeddings): Embedding(50265, 768, padding_idx=1)\n",
              "      (position_embeddings): Embedding(4098, 768, padding_idx=1)\n",
              "      (token_type_embeddings): Embedding(1, 768)\n",
              "      (LayerNorm): LayerNorm((768,), eps=1e-05, elementwise_affine=True)\n",
              "      (dropout): Dropout(p=0.1, inplace=False)\n",
              "    )\n",
              "    (encoder): BertEncoder(\n",
              "      (layer): ModuleList(\n",
              "        (0): BertLayer(\n",
              "          (attention): BertAttention(\n",
              "            (self): LongformerSelfAttention(\n",
              "              (query): Linear(in_features=768, out_features=768, bias=True)\n",
              "              (key): Linear(in_features=768, out_features=768, bias=True)\n",
              "              (value): Linear(in_features=768, out_features=768, bias=True)\n",
              "              (query_global): Linear(in_features=768, out_features=768, bias=True)\n",
              "              (key_global): Linear(in_features=768, out_features=768, bias=True)\n",
              "              (value_global): Linear(in_features=768, out_features=768, bias=True)\n",
              "            )\n",
              "            (output): BertSelfOutput(\n",
              "              (dense): Linear(in_features=768, out_features=768, bias=True)\n",
              "              (LayerNorm): LayerNorm((768,), eps=1e-05, elementwise_affine=True)\n",
              "              (dropout): Dropout(p=0.1, inplace=False)\n",
              "            )\n",
              "          )\n",
              "          (intermediate): BertIntermediate(\n",
              "            (dense): Linear(in_features=768, out_features=3072, bias=True)\n",
              "          )\n",
              "          (output): BertOutput(\n",
              "            (dense): Linear(in_features=3072, out_features=768, bias=True)\n",
              "            (LayerNorm): LayerNorm((768,), eps=1e-05, elementwise_affine=True)\n",
              "            (dropout): Dropout(p=0.1, inplace=False)\n",
              "          )\n",
              "        )\n",
              "        (1): BertLayer(\n",
              "          (attention): BertAttention(\n",
              "            (self): LongformerSelfAttention(\n",
              "              (query): Linear(in_features=768, out_features=768, bias=True)\n",
              "              (key): Linear(in_features=768, out_features=768, bias=True)\n",
              "              (value): Linear(in_features=768, out_features=768, bias=True)\n",
              "              (query_global): Linear(in_features=768, out_features=768, bias=True)\n",
              "              (key_global): Linear(in_features=768, out_features=768, bias=True)\n",
              "              (value_global): Linear(in_features=768, out_features=768, bias=True)\n",
              "            )\n",
              "            (output): BertSelfOutput(\n",
              "              (dense): Linear(in_features=768, out_features=768, bias=True)\n",
              "              (LayerNorm): LayerNorm((768,), eps=1e-05, elementwise_affine=True)\n",
              "              (dropout): Dropout(p=0.1, inplace=False)\n",
              "            )\n",
              "          )\n",
              "          (intermediate): BertIntermediate(\n",
              "            (dense): Linear(in_features=768, out_features=3072, bias=True)\n",
              "          )\n",
              "          (output): BertOutput(\n",
              "            (dense): Linear(in_features=3072, out_features=768, bias=True)\n",
              "            (LayerNorm): LayerNorm((768,), eps=1e-05, elementwise_affine=True)\n",
              "            (dropout): Dropout(p=0.1, inplace=False)\n",
              "          )\n",
              "        )\n",
              "        (2): BertLayer(\n",
              "          (attention): BertAttention(\n",
              "            (self): LongformerSelfAttention(\n",
              "              (query): Linear(in_features=768, out_features=768, bias=True)\n",
              "              (key): Linear(in_features=768, out_features=768, bias=True)\n",
              "              (value): Linear(in_features=768, out_features=768, bias=True)\n",
              "              (query_global): Linear(in_features=768, out_features=768, bias=True)\n",
              "              (key_global): Linear(in_features=768, out_features=768, bias=True)\n",
              "              (value_global): Linear(in_features=768, out_features=768, bias=True)\n",
              "            )\n",
              "            (output): BertSelfOutput(\n",
              "              (dense): Linear(in_features=768, out_features=768, bias=True)\n",
              "              (LayerNorm): LayerNorm((768,), eps=1e-05, elementwise_affine=True)\n",
              "              (dropout): Dropout(p=0.1, inplace=False)\n",
              "            )\n",
              "          )\n",
              "          (intermediate): BertIntermediate(\n",
              "            (dense): Linear(in_features=768, out_features=3072, bias=True)\n",
              "          )\n",
              "          (output): BertOutput(\n",
              "            (dense): Linear(in_features=3072, out_features=768, bias=True)\n",
              "            (LayerNorm): LayerNorm((768,), eps=1e-05, elementwise_affine=True)\n",
              "            (dropout): Dropout(p=0.1, inplace=False)\n",
              "          )\n",
              "        )\n",
              "        (3): BertLayer(\n",
              "          (attention): BertAttention(\n",
              "            (self): LongformerSelfAttention(\n",
              "              (query): Linear(in_features=768, out_features=768, bias=True)\n",
              "              (key): Linear(in_features=768, out_features=768, bias=True)\n",
              "              (value): Linear(in_features=768, out_features=768, bias=True)\n",
              "              (query_global): Linear(in_features=768, out_features=768, bias=True)\n",
              "              (key_global): Linear(in_features=768, out_features=768, bias=True)\n",
              "              (value_global): Linear(in_features=768, out_features=768, bias=True)\n",
              "            )\n",
              "            (output): BertSelfOutput(\n",
              "              (dense): Linear(in_features=768, out_features=768, bias=True)\n",
              "              (LayerNorm): LayerNorm((768,), eps=1e-05, elementwise_affine=True)\n",
              "              (dropout): Dropout(p=0.1, inplace=False)\n",
              "            )\n",
              "          )\n",
              "          (intermediate): BertIntermediate(\n",
              "            (dense): Linear(in_features=768, out_features=3072, bias=True)\n",
              "          )\n",
              "          (output): BertOutput(\n",
              "            (dense): Linear(in_features=3072, out_features=768, bias=True)\n",
              "            (LayerNorm): LayerNorm((768,), eps=1e-05, elementwise_affine=True)\n",
              "            (dropout): Dropout(p=0.1, inplace=False)\n",
              "          )\n",
              "        )\n",
              "        (4): BertLayer(\n",
              "          (attention): BertAttention(\n",
              "            (self): LongformerSelfAttention(\n",
              "              (query): Linear(in_features=768, out_features=768, bias=True)\n",
              "              (key): Linear(in_features=768, out_features=768, bias=True)\n",
              "              (value): Linear(in_features=768, out_features=768, bias=True)\n",
              "              (query_global): Linear(in_features=768, out_features=768, bias=True)\n",
              "              (key_global): Linear(in_features=768, out_features=768, bias=True)\n",
              "              (value_global): Linear(in_features=768, out_features=768, bias=True)\n",
              "            )\n",
              "            (output): BertSelfOutput(\n",
              "              (dense): Linear(in_features=768, out_features=768, bias=True)\n",
              "              (LayerNorm): LayerNorm((768,), eps=1e-05, elementwise_affine=True)\n",
              "              (dropout): Dropout(p=0.1, inplace=False)\n",
              "            )\n",
              "          )\n",
              "          (intermediate): BertIntermediate(\n",
              "            (dense): Linear(in_features=768, out_features=3072, bias=True)\n",
              "          )\n",
              "          (output): BertOutput(\n",
              "            (dense): Linear(in_features=3072, out_features=768, bias=True)\n",
              "            (LayerNorm): LayerNorm((768,), eps=1e-05, elementwise_affine=True)\n",
              "            (dropout): Dropout(p=0.1, inplace=False)\n",
              "          )\n",
              "        )\n",
              "        (5): BertLayer(\n",
              "          (attention): BertAttention(\n",
              "            (self): LongformerSelfAttention(\n",
              "              (query): Linear(in_features=768, out_features=768, bias=True)\n",
              "              (key): Linear(in_features=768, out_features=768, bias=True)\n",
              "              (value): Linear(in_features=768, out_features=768, bias=True)\n",
              "              (query_global): Linear(in_features=768, out_features=768, bias=True)\n",
              "              (key_global): Linear(in_features=768, out_features=768, bias=True)\n",
              "              (value_global): Linear(in_features=768, out_features=768, bias=True)\n",
              "            )\n",
              "            (output): BertSelfOutput(\n",
              "              (dense): Linear(in_features=768, out_features=768, bias=True)\n",
              "              (LayerNorm): LayerNorm((768,), eps=1e-05, elementwise_affine=True)\n",
              "              (dropout): Dropout(p=0.1, inplace=False)\n",
              "            )\n",
              "          )\n",
              "          (intermediate): BertIntermediate(\n",
              "            (dense): Linear(in_features=768, out_features=3072, bias=True)\n",
              "          )\n",
              "          (output): BertOutput(\n",
              "            (dense): Linear(in_features=3072, out_features=768, bias=True)\n",
              "            (LayerNorm): LayerNorm((768,), eps=1e-05, elementwise_affine=True)\n",
              "            (dropout): Dropout(p=0.1, inplace=False)\n",
              "          )\n",
              "        )\n",
              "        (6): BertLayer(\n",
              "          (attention): BertAttention(\n",
              "            (self): LongformerSelfAttention(\n",
              "              (query): Linear(in_features=768, out_features=768, bias=True)\n",
              "              (key): Linear(in_features=768, out_features=768, bias=True)\n",
              "              (value): Linear(in_features=768, out_features=768, bias=True)\n",
              "              (query_global): Linear(in_features=768, out_features=768, bias=True)\n",
              "              (key_global): Linear(in_features=768, out_features=768, bias=True)\n",
              "              (value_global): Linear(in_features=768, out_features=768, bias=True)\n",
              "            )\n",
              "            (output): BertSelfOutput(\n",
              "              (dense): Linear(in_features=768, out_features=768, bias=True)\n",
              "              (LayerNorm): LayerNorm((768,), eps=1e-05, elementwise_affine=True)\n",
              "              (dropout): Dropout(p=0.1, inplace=False)\n",
              "            )\n",
              "          )\n",
              "          (intermediate): BertIntermediate(\n",
              "            (dense): Linear(in_features=768, out_features=3072, bias=True)\n",
              "          )\n",
              "          (output): BertOutput(\n",
              "            (dense): Linear(in_features=3072, out_features=768, bias=True)\n",
              "            (LayerNorm): LayerNorm((768,), eps=1e-05, elementwise_affine=True)\n",
              "            (dropout): Dropout(p=0.1, inplace=False)\n",
              "          )\n",
              "        )\n",
              "        (7): BertLayer(\n",
              "          (attention): BertAttention(\n",
              "            (self): LongformerSelfAttention(\n",
              "              (query): Linear(in_features=768, out_features=768, bias=True)\n",
              "              (key): Linear(in_features=768, out_features=768, bias=True)\n",
              "              (value): Linear(in_features=768, out_features=768, bias=True)\n",
              "              (query_global): Linear(in_features=768, out_features=768, bias=True)\n",
              "              (key_global): Linear(in_features=768, out_features=768, bias=True)\n",
              "              (value_global): Linear(in_features=768, out_features=768, bias=True)\n",
              "            )\n",
              "            (output): BertSelfOutput(\n",
              "              (dense): Linear(in_features=768, out_features=768, bias=True)\n",
              "              (LayerNorm): LayerNorm((768,), eps=1e-05, elementwise_affine=True)\n",
              "              (dropout): Dropout(p=0.1, inplace=False)\n",
              "            )\n",
              "          )\n",
              "          (intermediate): BertIntermediate(\n",
              "            (dense): Linear(in_features=768, out_features=3072, bias=True)\n",
              "          )\n",
              "          (output): BertOutput(\n",
              "            (dense): Linear(in_features=3072, out_features=768, bias=True)\n",
              "            (LayerNorm): LayerNorm((768,), eps=1e-05, elementwise_affine=True)\n",
              "            (dropout): Dropout(p=0.1, inplace=False)\n",
              "          )\n",
              "        )\n",
              "        (8): BertLayer(\n",
              "          (attention): BertAttention(\n",
              "            (self): LongformerSelfAttention(\n",
              "              (query): Linear(in_features=768, out_features=768, bias=True)\n",
              "              (key): Linear(in_features=768, out_features=768, bias=True)\n",
              "              (value): Linear(in_features=768, out_features=768, bias=True)\n",
              "              (query_global): Linear(in_features=768, out_features=768, bias=True)\n",
              "              (key_global): Linear(in_features=768, out_features=768, bias=True)\n",
              "              (value_global): Linear(in_features=768, out_features=768, bias=True)\n",
              "            )\n",
              "            (output): BertSelfOutput(\n",
              "              (dense): Linear(in_features=768, out_features=768, bias=True)\n",
              "              (LayerNorm): LayerNorm((768,), eps=1e-05, elementwise_affine=True)\n",
              "              (dropout): Dropout(p=0.1, inplace=False)\n",
              "            )\n",
              "          )\n",
              "          (intermediate): BertIntermediate(\n",
              "            (dense): Linear(in_features=768, out_features=3072, bias=True)\n",
              "          )\n",
              "          (output): BertOutput(\n",
              "            (dense): Linear(in_features=3072, out_features=768, bias=True)\n",
              "            (LayerNorm): LayerNorm((768,), eps=1e-05, elementwise_affine=True)\n",
              "            (dropout): Dropout(p=0.1, inplace=False)\n",
              "          )\n",
              "        )\n",
              "        (9): BertLayer(\n",
              "          (attention): BertAttention(\n",
              "            (self): LongformerSelfAttention(\n",
              "              (query): Linear(in_features=768, out_features=768, bias=True)\n",
              "              (key): Linear(in_features=768, out_features=768, bias=True)\n",
              "              (value): Linear(in_features=768, out_features=768, bias=True)\n",
              "              (query_global): Linear(in_features=768, out_features=768, bias=True)\n",
              "              (key_global): Linear(in_features=768, out_features=768, bias=True)\n",
              "              (value_global): Linear(in_features=768, out_features=768, bias=True)\n",
              "            )\n",
              "            (output): BertSelfOutput(\n",
              "              (dense): Linear(in_features=768, out_features=768, bias=True)\n",
              "              (LayerNorm): LayerNorm((768,), eps=1e-05, elementwise_affine=True)\n",
              "              (dropout): Dropout(p=0.1, inplace=False)\n",
              "            )\n",
              "          )\n",
              "          (intermediate): BertIntermediate(\n",
              "            (dense): Linear(in_features=768, out_features=3072, bias=True)\n",
              "          )\n",
              "          (output): BertOutput(\n",
              "            (dense): Linear(in_features=3072, out_features=768, bias=True)\n",
              "            (LayerNorm): LayerNorm((768,), eps=1e-05, elementwise_affine=True)\n",
              "            (dropout): Dropout(p=0.1, inplace=False)\n",
              "          )\n",
              "        )\n",
              "        (10): BertLayer(\n",
              "          (attention): BertAttention(\n",
              "            (self): LongformerSelfAttention(\n",
              "              (query): Linear(in_features=768, out_features=768, bias=True)\n",
              "              (key): Linear(in_features=768, out_features=768, bias=True)\n",
              "              (value): Linear(in_features=768, out_features=768, bias=True)\n",
              "              (query_global): Linear(in_features=768, out_features=768, bias=True)\n",
              "              (key_global): Linear(in_features=768, out_features=768, bias=True)\n",
              "              (value_global): Linear(in_features=768, out_features=768, bias=True)\n",
              "            )\n",
              "            (output): BertSelfOutput(\n",
              "              (dense): Linear(in_features=768, out_features=768, bias=True)\n",
              "              (LayerNorm): LayerNorm((768,), eps=1e-05, elementwise_affine=True)\n",
              "              (dropout): Dropout(p=0.1, inplace=False)\n",
              "            )\n",
              "          )\n",
              "          (intermediate): BertIntermediate(\n",
              "            (dense): Linear(in_features=768, out_features=3072, bias=True)\n",
              "          )\n",
              "          (output): BertOutput(\n",
              "            (dense): Linear(in_features=3072, out_features=768, bias=True)\n",
              "            (LayerNorm): LayerNorm((768,), eps=1e-05, elementwise_affine=True)\n",
              "            (dropout): Dropout(p=0.1, inplace=False)\n",
              "          )\n",
              "        )\n",
              "        (11): BertLayer(\n",
              "          (attention): BertAttention(\n",
              "            (self): LongformerSelfAttention(\n",
              "              (query): Linear(in_features=768, out_features=768, bias=True)\n",
              "              (key): Linear(in_features=768, out_features=768, bias=True)\n",
              "              (value): Linear(in_features=768, out_features=768, bias=True)\n",
              "              (query_global): Linear(in_features=768, out_features=768, bias=True)\n",
              "              (key_global): Linear(in_features=768, out_features=768, bias=True)\n",
              "              (value_global): Linear(in_features=768, out_features=768, bias=True)\n",
              "            )\n",
              "            (output): BertSelfOutput(\n",
              "              (dense): Linear(in_features=768, out_features=768, bias=True)\n",
              "              (LayerNorm): LayerNorm((768,), eps=1e-05, elementwise_affine=True)\n",
              "              (dropout): Dropout(p=0.1, inplace=False)\n",
              "            )\n",
              "          )\n",
              "          (intermediate): BertIntermediate(\n",
              "            (dense): Linear(in_features=768, out_features=3072, bias=True)\n",
              "          )\n",
              "          (output): BertOutput(\n",
              "            (dense): Linear(in_features=3072, out_features=768, bias=True)\n",
              "            (LayerNorm): LayerNorm((768,), eps=1e-05, elementwise_affine=True)\n",
              "            (dropout): Dropout(p=0.1, inplace=False)\n",
              "          )\n",
              "        )\n",
              "      )\n",
              "    )\n",
              "    (pooler): BertPooler(\n",
              "      (dense): Linear(in_features=768, out_features=768, bias=True)\n",
              "      (activation): Tanh()\n",
              "    )\n",
              "  )\n",
              "  (l2): Dropout(p=0.3, inplace=False)\n",
              "  (l3): Linear(in_features=768, out_features=16, bias=True)\n",
              ")"
            ]
          },
          "metadata": {},
          "execution_count": 21
        }
      ]
    },
    {
      "cell_type": "code",
      "metadata": {
        "id": "MEkUonDgj_RS"
      },
      "source": [
        "# loss function\n",
        "def loss_fn(outputs, targets):\n",
        "    return torch.nn.BCEWithLogitsLoss()(outputs, targets)"
      ],
      "execution_count": 22,
      "outputs": []
    },
    {
      "cell_type": "code",
      "metadata": {
        "id": "gYKGcYQPj_N6"
      },
      "source": [
        "LEARNING_RATE=1e-05\n",
        "optimizer = torch.optim.Adam(params =  model.parameters(), lr=LEARNING_RATE)"
      ],
      "execution_count": 23,
      "outputs": []
    },
    {
      "cell_type": "code",
      "metadata": {
        "id": "egRWM3_oj_Ko"
      },
      "source": [
        "import time\n",
        "from sklearn.metrics import classification_report\n",
        "import pprint"
      ],
      "execution_count": 24,
      "outputs": []
    },
    {
      "cell_type": "code",
      "metadata": {
        "id": "SSGTw-JDkyC3"
      },
      "source": [
        "#def plotCurves(stats, path, f1=False):\n",
        "def plotCurves(stats, f1=False):\n",
        "    fig = plt.figure(constrained_layout=True)\n",
        "    spec2 = gridspec.GridSpec(ncols=2, nrows=2, figure=fig)\n",
        "    ax1 = fig.add_subplot(spec2[0, 0])\n",
        "    ax2 = fig.add_subplot(spec2[0, 1])\n",
        "    ax3 = fig.add_subplot(spec2[1, 0])\n",
        "    for i in ['train_loss', 'valid_loss']: \n",
        "      ax1.plot(stats[i], label=i)\n",
        "    ax1.legend()\n",
        "    ax1.set_xlabel('Epochs')\n",
        "    ax1.set_ylabel('Loss')\n",
        "\n",
        "    for j in ['train_acc', 'valid_acc']: \n",
        "      ax2.plot(100 * stats[j], label=j)\n",
        "    ax2.legend()\n",
        "    ax2.set_xlabel('Epochs')\n",
        "    ax2.set_ylabel('Accuracy')\n",
        "    \n",
        "    if f1:\n",
        "        for c in ['train_f1', 'valid_f1']: \n",
        "          ax3.plot(stats[c], label=c)\n",
        "        ax3.legend()\n",
        "        ax3.set_xlabel('Epochs')\n",
        "        ax3.set_ylabel('F1 Score')\n",
        "    fig.savefig(basePath+'curve.png')\n",
        "        \n",
        "    #fig.savefig(path+'/Metrics.png')"
      ],
      "execution_count": 25,
      "outputs": []
    },
    {
      "cell_type": "code",
      "metadata": {
        "id": "RMZ-MoY3kx_5"
      },
      "source": [
        "def CallsTrain(Model, trainloader, testloader, Epochs, name):  \n",
        "    stats = []\n",
        "    old_loss=1000\n",
        "    bad_epoch_count=0\n",
        "    for epoch in range(1, Epochs):  # loop over the dataset multiple times\n",
        "        train_loss, running_loss = 0.0, 0.0\n",
        "        valid_loss, val_loss = 0.0, 0.0\n",
        "        t_accuracy, v_accuracy = [], []\n",
        "        t_f1, v_f1 = [], []\n",
        "        Model.train()\n",
        "        cls_preds, cls_tars = [], [] \n",
        "        fin_targets,fin_outputs=[],[]\n",
        "        v_fin_targets,v_fin_outputs=[],[]\n",
        "        tr_pbar = tqdm(enumerate(trainloader, 0)) \n",
        "        for tr_batch, data in tr_pbar:    # Getting the batches every iteration\n",
        "            tr_pbar.set_description(f'Epoch no: {epoch}/{Epochs} Training batch no {tr_batch}')\n",
        "            ids = data['ids'].to(device, dtype = torch.long)\n",
        "            mask = data['mask'].to(device, dtype = torch.long)\n",
        "            token_type_ids = data['token_type_ids'].to(device, dtype = torch.long)\n",
        "            targets = data['targets'].to(device, dtype = torch.float)\n",
        "            try:\n",
        "                outputs = Model(ids.squeeze(), mask.squeeze(), token_type_ids.squeeze())\n",
        "            except Exception as ex:\n",
        "                print('exception in here',ex)\n",
        "                #print('the exception','id',type(ids),'mask',type(mask),'token_type_ids',type(token_type_ids), 'targets',type(targets),ex)\n",
        "            optimizer.zero_grad()\n",
        "            loss = loss_fn(outputs, targets)\n",
        "            loss.backward()                     #----> backward pass\n",
        "            optimizer.step()                   #----> weights update\n",
        "\n",
        "            fin_targets.extend(targets.cpu().detach().numpy().tolist())\n",
        "            fin_outputs.extend(torch.sigmoid(outputs).cpu().detach().numpy().tolist())\n",
        "            running_loss += loss       # Adding loss for every batch size\n",
        "        train_loss = running_loss / len(trainloader)\n",
        "        outputs=np.asarray(fin_outputs)\n",
        "        targets=np.asarray(fin_targets)\n",
        "        #print(outputs,targets)\n",
        "        outputs = outputs >= 0.5\n",
        "        from sklearn.metrics import accuracy_score\n",
        "        epoch_acc = accuracy_score(targets, outputs)\n",
        "        epoch_f1 = metrics.f1_score(targets, outputs, average='macro')\n",
        "        epoch_Recall = metrics.recall_score(targets, outputs,average='macro')\n",
        "        epoch_Precision = metrics.precision_score(targets, outputs,average='macro')\n",
        "\n",
        "        Model.eval()\n",
        "        with torch.no_grad():\n",
        "            val_pbar = tqdm(enumerate(testloader, 0)) \n",
        "            for val_batch, v_data in val_pbar:\n",
        "                val_pbar.set_description(f'Epoch no: {epoch}/{Epochs} Validation batch no {val_batch}')\n",
        "                ids = v_data['ids'].to(device, dtype = torch.long)\n",
        "                mask = v_data['mask'].to(device, dtype = torch.long)\n",
        "                token_type_ids = v_data['token_type_ids'].to(device, dtype = torch.long)\n",
        "                targets = v_data['targets'].to(device, dtype = torch.float)\n",
        "                try:\n",
        "                    outputs = Model(ids.squeeze(), mask.squeeze(), token_type_ids.squeeze())\n",
        "                except Exception as ex:\n",
        "                    print('exception in here',ex)\n",
        "\n",
        "                v_loss = loss_fn(outputs, targets)\n",
        "                v_fin_targets.extend(targets.cpu().detach().numpy().tolist())\n",
        "                v_fin_outputs.extend(torch.sigmoid(outputs).cpu().detach().numpy().tolist())\n",
        "                val_loss += v_loss        # Adding loss for every batch size\n",
        "            valid_loss = val_loss / len(testloader)\n",
        "            outputs=np.asarray(v_fin_outputs)\n",
        "            targets=np.asarray(v_fin_targets)\n",
        "            #print(outputs.shape,targets.shape)\n",
        "            outputs = outputs >= 0.5\n",
        "            from sklearn.metrics import accuracy_score\n",
        "            epoch_vacc = accuracy_score(targets, outputs)\n",
        "            epoch_vf1 = metrics.f1_score(targets, outputs, average='macro')\n",
        "            epoch_vRecall = metrics.recall_score(targets, outputs,average='macro')\n",
        "            epoch_vPrecision = metrics.precision_score(targets, outputs,average='macro')\n",
        "\n",
        "            #print(f'\\nTraining loss: {train_loss}, Training Accuracy: {100*epoch_acc}, Training F1 Score: {epoch_f1}')\n",
        "            print(f'\\nTraining loss: {train_loss}, Training Accuracy: {epoch_acc}, Training F1 Score: {epoch_f1}')\n",
        "            print(f'Validation loss: {valid_loss}, Validation Accuracy: {epoch_vacc}, Validation F1 Score: {epoch_vf1}')\n",
        "            print(f'Validation Precision: {epoch_vPrecision}, Validation Recall: {epoch_vRecall}')\n",
        "            print(f'Training Precision: {epoch_Precision}, Training Recall: {epoch_Recall}')\n",
        "\n",
        "            from sklearn.metrics import classification_report\n",
        "            target_names = ['class 0', 'class 1', 'class 2','class 3', 'class 4', 'class 5','class 6', 'class 7', 'class 8','class 9',\n",
        "                            'class 10', 'class 11','class 12', 'class 13', 'class 14','class 15']\n",
        "\n",
        "            print('validation classification report',classification_report(targets, outputs, target_names=target_names))\n",
        "            stats.append([train_loss, valid_loss, epoch_acc, epoch_vacc, epoch_f1, epoch_vf1])\n",
        "            history = pd.DataFrame(stats, columns=['train_loss', 'valid_loss', 'train_acc', 'valid_acc', 'train_f1', 'valid_f1'])\n",
        "            if old_loss>valid_loss:\n",
        "                  old_loss=valid_loss\n",
        "                  torch.save(Model.state_dict(), name)\n",
        "                  bad_epoch_count=0\n",
        "                  print('Model saved after ',epoch,' epochs')\n",
        "            else:\n",
        "                  bad_epoch_count+=1\n",
        "                  print('Number of bad epochs: ',bad_epoch_count,'\\nModel not saved')\n",
        "                  if bad_epoch_count==5:\n",
        "                      print('Training Process Stopped due to 5 bad epochs and history/plot updated')\n",
        "                      history.to_csv(basePath+\"history.csv\")\n",
        "                      plotCurves(history,True)\n",
        "                      break\n",
        "            history.to_csv(basePath+\"history.csv\")\n",
        "            #if epoch % 5 == 0: plotCurves(history, '/content/drive/MyDrive/customer-name-email-phone-number-extacion/all_4691_calls_agent_caller_phone_data/longformer/', True)\n",
        "            if epoch % 5 == 0: plotCurves(history,True)\n",
        "                    \n",
        "    return Model, history"
      ],
      "execution_count": 26,
      "outputs": []
    },
    {
      "cell_type": "code",
      "metadata": {
        "colab": {
          "base_uri": "https://localhost:8080/"
        },
        "id": "MbwWRr6XlFEs",
        "outputId": "24689e74-cd81-4181-9a7f-bc43b547321f"
      },
      "source": [
        "print('running ')"
      ],
      "execution_count": 27,
      "outputs": [
        {
          "output_type": "stream",
          "name": "stdout",
          "text": [
            "running \n"
          ]
        }
      ]
    },
    {
      "cell_type": "code",
      "metadata": {
        "id": "QTw2eHfakx79"
      },
      "source": [
        "basePath='/content/gdrive/MyDrive/Updated_Model_Notebooks/belltire_16_indicator/trained models/'"
      ],
      "execution_count": 28,
      "outputs": []
    },
    {
      "cell_type": "code",
      "metadata": {
        "colab": {
          "base_uri": "https://localhost:8080/",
          "height": 1000
        },
        "id": "wGp4uqq3j_HJ",
        "outputId": "59111f90-11f2-4441-fa3c-6e17cca7477e"
      },
      "source": [
        "model, history = CallsTrain(model,train_loader, testing_loader, Epochs = 20, name = basePath+'github_longfomer_multilabel_classification.pt')"
      ],
      "execution_count": 29,
      "outputs": [
        {
          "output_type": "stream",
          "name": "stderr",
          "text": [
            "0it [00:00, ?it/s]/usr/local/lib/python3.7/dist-packages/transformers/tokenization_utils_base.py:1770: FutureWarning: The `pad_to_max_length` argument is deprecated and will be removed in a future version, use `padding=True` or `padding='longest'` to pad to the longest sequence in the batch, or use `padding='max_length'` to pad to a max length. In this case, you can give a specific length with `max_length` (e.g. `max_length=45`) or leave max_length to None to pad to the maximal input size of the model (e.g. 512 for Bert).\n",
            "  FutureWarning,\n",
            "Epoch no: 1/20 Training batch no 1476: : 1477it [23:50,  1.03it/s]\n",
            "Epoch no: 1/20 Validation batch no 367: : 368it [01:35,  3.83it/s]\n",
            "/usr/local/lib/python3.7/dist-packages/sklearn/metrics/_classification.py:1272: UndefinedMetricWarning: Precision is ill-defined and being set to 0.0 in labels with no predicted samples. Use `zero_division` parameter to control this behavior.\n",
            "  _warn_prf(average, modifier, msg_start, len(result))\n",
            "/usr/local/lib/python3.7/dist-packages/sklearn/metrics/_classification.py:1272: UndefinedMetricWarning: Precision and F-score are ill-defined and being set to 0.0 in labels with no predicted samples. Use `zero_division` parameter to control this behavior.\n",
            "  _warn_prf(average, modifier, msg_start, len(result))\n"
          ]
        },
        {
          "output_type": "stream",
          "name": "stdout",
          "text": [
            "\n",
            "Training loss: 0.3952690660953522, Training Accuracy: 0.07092078537576169, Training F1 Score: 0.7064205076679615\n",
            "Validation loss: 0.3426070213317871, Validation Accuracy: 0.10326086956521739, Validation F1 Score: 0.7495914759431537\n",
            "Validation Precision: 0.7161992883452624, Validation Recall: 0.790291253188016\n",
            "Training Precision: 0.7319882835322623, Training Recall: 0.7076336845442394\n",
            "validation classification report               precision    recall  f1-score   support\n",
            "\n",
            "     class 0       0.91      0.94      0.93       562\n",
            "     class 1       0.88      1.00      0.94      1302\n",
            "     class 2       0.96      1.00      0.98      1420\n",
            "     class 3       0.96      1.00      0.98      1413\n",
            "     class 4       0.67      0.79      0.73       877\n",
            "     class 5       0.00      0.00      0.00         2\n",
            "     class 6       0.69      0.96      0.80       976\n",
            "     class 7       0.85      0.90      0.88       472\n",
            "     class 8       0.92      0.95      0.93       691\n",
            "     class 9       0.81      0.90      0.86       725\n",
            "    class 10       0.83      1.00      0.91      1229\n",
            "    class 11       0.68      0.76      0.72       771\n",
            "    class 12       0.93      0.87      0.90       622\n",
            "    class 13       0.68      0.89      0.77       440\n",
            "    class 14       0.00      0.00      0.00       194\n",
            "    class 15       0.66      0.68      0.67       616\n",
            "\n",
            "   micro avg       0.83      0.91      0.87     12312\n",
            "   macro avg       0.72      0.79      0.75     12312\n",
            "weighted avg       0.82      0.91      0.86     12312\n",
            " samples avg       0.83      0.90      0.85     12312\n",
            "\n",
            "Model saved after  1  epochs\n"
          ]
        },
        {
          "output_type": "stream",
          "name": "stderr",
          "text": [
            "Epoch no: 2/20 Training batch no 1476: : 1477it [23:48,  1.03it/s]\n",
            "Epoch no: 2/20 Validation batch no 367: : 368it [01:35,  3.84it/s]\n"
          ]
        },
        {
          "output_type": "stream",
          "name": "stdout",
          "text": [
            "\n",
            "Training loss: 0.31801408529281616, Training Accuracy: 0.11797562626946513, Training F1 Score: 0.7673656615569049\n",
            "Validation loss: 0.3131292164325714, Validation Accuracy: 0.1297554347826087, Validation F1 Score: 0.764439380065883\n",
            "Validation Precision: 0.7814608779266665, Validation Recall: 0.7902681804162262\n",
            "Training Precision: 0.7639849436798394, Training Recall: 0.7899954294081826\n",
            "validation classification report               precision    recall  f1-score   support\n",
            "\n",
            "     class 0       0.93      0.94      0.94       562\n",
            "     class 1       0.88      1.00      0.94      1302\n",
            "     class 2       0.96      1.00      0.98      1420\n",
            "     class 3       0.96      1.00      0.98      1413\n",
            "     class 4       0.74      0.70      0.72       877\n",
            "     class 5       0.00      0.00      0.00         2\n",
            "     class 6       0.72      0.89      0.80       976\n",
            "     class 7       0.87      0.91      0.89       472\n",
            "     class 8       0.95      0.96      0.95       691\n",
            "     class 9       0.86      0.91      0.89       725\n",
            "    class 10       0.83      1.00      0.91      1229\n",
            "    class 11       0.68      0.77      0.73       771\n",
            "    class 12       0.94      0.88      0.91       622\n",
            "    class 13       0.69      0.89      0.78       440\n",
            "    class 14       0.67      0.02      0.04       194\n",
            "    class 15       0.81      0.77      0.79       616\n",
            "\n",
            "   micro avg       0.85      0.90      0.88     12312\n",
            "   macro avg       0.78      0.79      0.76     12312\n",
            "weighted avg       0.85      0.90      0.87     12312\n",
            " samples avg       0.85      0.90      0.86     12312\n",
            "\n",
            "Model saved after  2  epochs\n"
          ]
        },
        {
          "output_type": "stream",
          "name": "stderr",
          "text": [
            "Epoch no: 3/20 Training batch no 1476: : 1477it [23:49,  1.03it/s]\n",
            "Epoch no: 3/20 Validation batch no 367: : 368it [01:35,  3.84it/s]\n"
          ]
        },
        {
          "output_type": "stream",
          "name": "stdout",
          "text": [
            "\n",
            "Training loss: 0.28988584876060486, Training Accuracy: 0.15758293838862558, Training F1 Score: 0.7981319134011352\n",
            "Validation loss: 0.2989809811115265, Validation Accuracy: 0.16576086956521738, Validation F1 Score: 0.8030564006566763\n",
            "Validation Precision: 0.798081688280013, Validation Recall: 0.8143828929123209\n",
            "Training Precision: 0.7918176933633692, Training Recall: 0.815609547169336\n",
            "validation classification report               precision    recall  f1-score   support\n",
            "\n",
            "     class 0       0.92      0.95      0.93       562\n",
            "     class 1       0.88      1.00      0.94      1302\n",
            "     class 2       0.96      1.00      0.98      1420\n",
            "     class 3       0.96      1.00      0.98      1413\n",
            "     class 4       0.76      0.69      0.72       877\n",
            "     class 5       0.00      0.00      0.00         2\n",
            "     class 6       0.85      0.81      0.83       976\n",
            "     class 7       0.89      0.89      0.89       472\n",
            "     class 8       0.94      0.96      0.95       691\n",
            "     class 9       0.87      0.89      0.88       725\n",
            "    class 10       0.83      1.00      0.91      1229\n",
            "    class 11       0.70      0.76      0.73       771\n",
            "    class 12       0.93      0.89      0.91       622\n",
            "    class 13       0.69      0.89      0.78       440\n",
            "    class 14       0.76      0.52      0.62       194\n",
            "    class 15       0.82      0.77      0.79       616\n",
            "\n",
            "   micro avg       0.87      0.90      0.89     12312\n",
            "   macro avg       0.80      0.81      0.80     12312\n",
            "weighted avg       0.87      0.90      0.88     12312\n",
            " samples avg       0.87      0.90      0.87     12312\n",
            "\n",
            "Model saved after  3  epochs\n"
          ]
        },
        {
          "output_type": "stream",
          "name": "stderr",
          "text": [
            "Epoch no: 4/20 Training batch no 1476: : 1477it [23:49,  1.03it/s]\n",
            "Epoch no: 4/20 Validation batch no 367: : 368it [01:35,  3.84it/s]\n"
          ]
        },
        {
          "output_type": "stream",
          "name": "stdout",
          "text": [
            "\n",
            "Training loss: 0.2668020725250244, Training Accuracy: 0.1909275558564658, Training F1 Score: 0.8232478364020208\n",
            "Validation loss: 0.29520681500434875, Validation Accuracy: 0.1671195652173913, Validation F1 Score: 0.8090720315181312\n",
            "Validation Precision: 0.8051789699057255, Validation Recall: 0.8178764318905019\n",
            "Training Precision: 0.8104936591334524, Training Recall: 0.8398218202490937\n",
            "validation classification report               precision    recall  f1-score   support\n",
            "\n",
            "     class 0       0.92      0.95      0.93       562\n",
            "     class 1       0.88      1.00      0.94      1302\n",
            "     class 2       0.96      1.00      0.98      1420\n",
            "     class 3       0.96      1.00      0.98      1413\n",
            "     class 4       0.77      0.70      0.73       877\n",
            "     class 5       0.00      0.00      0.00         2\n",
            "     class 6       0.87      0.86      0.86       976\n",
            "     class 7       0.88      0.90      0.89       472\n",
            "     class 8       0.94      0.96      0.95       691\n",
            "     class 9       0.86      0.90      0.88       725\n",
            "    class 10       0.85      0.99      0.91      1229\n",
            "    class 11       0.70      0.75      0.72       771\n",
            "    class 12       0.93      0.90      0.91       622\n",
            "    class 13       0.71      0.84      0.77       440\n",
            "    class 14       0.82      0.59      0.68       194\n",
            "    class 15       0.83      0.76      0.80       616\n",
            "\n",
            "   micro avg       0.87      0.91      0.89     12312\n",
            "   macro avg       0.81      0.82      0.81     12312\n",
            "weighted avg       0.87      0.91      0.89     12312\n",
            " samples avg       0.87      0.90      0.88     12312\n",
            "\n",
            "Model saved after  4  epochs\n"
          ]
        },
        {
          "output_type": "stream",
          "name": "stderr",
          "text": [
            "Epoch no: 5/20 Training batch no 1476: : 1477it [23:48,  1.03it/s]\n",
            "Epoch no: 5/20 Validation batch no 367: : 368it [01:35,  3.84it/s]\n"
          ]
        },
        {
          "output_type": "stream",
          "name": "stdout",
          "text": [
            "\n",
            "Training loss: 0.2487485110759735, Training Accuracy: 0.22579553148273526, Training F1 Score: 0.8354282862261948\n",
            "Validation loss: 0.2938646674156189, Validation Accuracy: 0.18138586956521738, Validation F1 Score: 0.8155193229512209\n",
            "Validation Precision: 0.8042832044011078, Validation Recall: 0.8299856884414037\n",
            "Training Precision: 0.8211368903554361, Training Recall: 0.8525265254823179\n",
            "validation classification report               precision    recall  f1-score   support\n",
            "\n",
            "     class 0       0.91      0.95      0.93       562\n",
            "     class 1       0.88      1.00      0.94      1302\n",
            "     class 2       0.96      1.00      0.98      1420\n",
            "     class 3       0.96      1.00      0.98      1413\n",
            "     class 4       0.77      0.72      0.75       877\n",
            "     class 5       0.00      0.00      0.00         2\n",
            "     class 6       0.86      0.86      0.86       976\n",
            "     class 7       0.89      0.90      0.90       472\n",
            "     class 8       0.95      0.96      0.95       691\n",
            "     class 9       0.85      0.92      0.89       725\n",
            "    class 10       0.86      0.99      0.92      1229\n",
            "    class 11       0.70      0.76      0.73       771\n",
            "    class 12       0.92      0.89      0.90       622\n",
            "    class 13       0.70      0.83      0.76       440\n",
            "    class 14       0.82      0.68      0.75       194\n",
            "    class 15       0.81      0.82      0.82       616\n",
            "\n",
            "   micro avg       0.87      0.91      0.89     12312\n",
            "   macro avg       0.80      0.83      0.82     12312\n",
            "weighted avg       0.87      0.91      0.89     12312\n",
            " samples avg       0.87      0.91      0.88     12312\n",
            "\n",
            "Model saved after  5  epochs\n"
          ]
        },
        {
          "output_type": "stream",
          "name": "stderr",
          "text": [
            "Epoch no: 6/20 Training batch no 1476: : 1477it [23:49,  1.03it/s]\n",
            "Epoch no: 6/20 Validation batch no 367: : 368it [01:35,  3.84it/s]\n"
          ]
        },
        {
          "output_type": "stream",
          "name": "stdout",
          "text": [
            "\n",
            "Training loss: 0.23261408507823944, Training Accuracy: 0.26134055517941773, Training F1 Score: 0.8451279311759137\n",
            "Validation loss: 0.29529133439064026, Validation Accuracy: 0.1956521739130435, Validation F1 Score: 0.8139027673754082\n",
            "Validation Precision: 0.8075924781671318, Validation Recall: 0.8230693509811611\n",
            "Training Precision: 0.8311604391615888, Training Recall: 0.8612975116670216\n",
            "validation classification report               precision    recall  f1-score   support\n",
            "\n",
            "     class 0       0.91      0.94      0.93       562\n",
            "     class 1       0.88      1.00      0.94      1302\n",
            "     class 2       0.96      1.00      0.98      1420\n",
            "     class 3       0.96      1.00      0.98      1413\n",
            "     class 4       0.81      0.72      0.76       877\n",
            "     class 5       0.00      0.00      0.00         2\n",
            "     class 6       0.87      0.87      0.87       976\n",
            "     class 7       0.91      0.90      0.91       472\n",
            "     class 8       0.94      0.96      0.95       691\n",
            "     class 9       0.85      0.90      0.88       725\n",
            "    class 10       0.88      0.97      0.92      1229\n",
            "    class 11       0.70      0.74      0.72       771\n",
            "    class 12       0.92      0.88      0.90       622\n",
            "    class 13       0.70      0.83      0.76       440\n",
            "    class 14       0.79      0.68      0.73       194\n",
            "    class 15       0.83      0.78      0.80       616\n",
            "\n",
            "   micro avg       0.88      0.91      0.89     12312\n",
            "   macro avg       0.81      0.82      0.81     12312\n",
            "weighted avg       0.88      0.91      0.89     12312\n",
            " samples avg       0.88      0.90      0.88     12312\n",
            "\n",
            "Number of bad epochs:  1 \n",
            "Model not saved\n"
          ]
        },
        {
          "output_type": "stream",
          "name": "stderr",
          "text": [
            "Epoch no: 7/20 Training batch no 1476: : 1477it [23:49,  1.03it/s]\n",
            "Epoch no: 7/20 Validation batch no 367: : 368it [01:35,  3.84it/s]\n"
          ]
        },
        {
          "output_type": "stream",
          "name": "stdout",
          "text": [
            "\n",
            "Training loss: 0.2137620598077774, Training Accuracy: 0.28622207176709547, Training F1 Score: 0.8548755721780064\n",
            "Validation loss: 0.2909663915634155, Validation Accuracy: 0.22010869565217392, Validation F1 Score: 0.8192491936762939\n",
            "Validation Precision: 0.8104242812046292, Validation Recall: 0.8315357126226801\n",
            "Training Precision: 0.8418308302813112, Training Recall: 0.8699654288547273\n",
            "validation classification report               precision    recall  f1-score   support\n",
            "\n",
            "     class 0       0.91      0.94      0.93       562\n",
            "     class 1       0.88      1.00      0.94      1302\n",
            "     class 2       0.96      1.00      0.98      1420\n",
            "     class 3       0.96      1.00      0.98      1413\n",
            "     class 4       0.87      0.79      0.83       877\n",
            "     class 5       0.00      0.00      0.00         2\n",
            "     class 6       0.86      0.89      0.87       976\n",
            "     class 7       0.91      0.92      0.91       472\n",
            "     class 8       0.95      0.96      0.95       691\n",
            "     class 9       0.86      0.89      0.88       725\n",
            "    class 10       0.87      0.99      0.93      1229\n",
            "    class 11       0.71      0.74      0.73       771\n",
            "    class 12       0.92      0.88      0.90       622\n",
            "    class 13       0.70      0.88      0.78       440\n",
            "    class 14       0.78      0.64      0.70       194\n",
            "    class 15       0.82      0.79      0.80       616\n",
            "\n",
            "   micro avg       0.88      0.92      0.90     12312\n",
            "   macro avg       0.81      0.83      0.82     12312\n",
            "weighted avg       0.88      0.92      0.90     12312\n",
            " samples avg       0.88      0.91      0.89     12312\n",
            "\n",
            "Model saved after  7  epochs\n"
          ]
        },
        {
          "output_type": "stream",
          "name": "stderr",
          "text": [
            "Epoch no: 8/20 Training batch no 1476: : 1477it [23:48,  1.03it/s]\n",
            "Epoch no: 8/20 Validation batch no 367: : 368it [01:35,  3.84it/s]\n"
          ]
        },
        {
          "output_type": "stream",
          "name": "stdout",
          "text": [
            "\n",
            "Training loss: 0.19583825767040253, Training Accuracy: 0.3324306025727827, Training F1 Score: 0.8632281237398229\n",
            "Validation loss: 0.2966972589492798, Validation Accuracy: 0.21875, Validation F1 Score: 0.8120889065818405\n",
            "Validation Precision: 0.8062208169033985, Validation Recall: 0.8242698049296735\n",
            "Training Precision: 0.8511050505054993, Training Recall: 0.87725197592574\n",
            "validation classification report               precision    recall  f1-score   support\n",
            "\n",
            "     class 0       0.91      0.95      0.93       562\n",
            "     class 1       0.88      1.00      0.94      1302\n",
            "     class 2       0.96      1.00      0.98      1420\n",
            "     class 3       0.96      1.00      0.98      1413\n",
            "     class 4       0.89      0.85      0.87       877\n",
            "     class 5       0.00      0.00      0.00         2\n",
            "     class 6       0.85      0.89      0.87       976\n",
            "     class 7       0.88      0.92      0.90       472\n",
            "     class 8       0.94      0.96      0.95       691\n",
            "     class 9       0.84      0.91      0.87       725\n",
            "    class 10       0.88      0.98      0.93      1229\n",
            "    class 11       0.72      0.74      0.73       771\n",
            "    class 12       0.91      0.89      0.90       622\n",
            "    class 13       0.71      0.87      0.78       440\n",
            "    class 14       0.75      0.47      0.58       194\n",
            "    class 15       0.81      0.77      0.79       616\n",
            "\n",
            "   micro avg       0.88      0.92      0.90     12312\n",
            "   macro avg       0.81      0.82      0.81     12312\n",
            "weighted avg       0.88      0.92      0.90     12312\n",
            " samples avg       0.88      0.92      0.89     12312\n",
            "\n",
            "Number of bad epochs:  1 \n",
            "Model not saved\n"
          ]
        },
        {
          "output_type": "stream",
          "name": "stderr",
          "text": [
            "Epoch no: 9/20 Training batch no 1476: : 1477it [23:49,  1.03it/s]\n",
            "Epoch no: 9/20 Validation batch no 367: : 368it [01:35,  3.84it/s]\n"
          ]
        },
        {
          "output_type": "stream",
          "name": "stdout",
          "text": [
            "\n",
            "Training loss: 0.17940574884414673, Training Accuracy: 0.36780636425186186, Training F1 Score: 0.8718239420369003\n",
            "Validation loss: 0.3027099370956421, Validation Accuracy: 0.21739130434782608, Validation F1 Score: 0.8181269740433904\n",
            "Validation Precision: 0.8072005280987457, Validation Recall: 0.8340418540061144\n",
            "Training Precision: 0.8611249524816948, Training Recall: 0.884143735121068\n",
            "validation classification report               precision    recall  f1-score   support\n",
            "\n",
            "     class 0       0.90      0.94      0.92       562\n",
            "     class 1       0.88      1.00      0.94      1302\n",
            "     class 2       0.96      1.00      0.98      1420\n",
            "     class 3       0.96      1.00      0.98      1413\n",
            "     class 4       0.90      0.86      0.88       877\n",
            "     class 5       0.00      0.00      0.00         2\n",
            "     class 6       0.86      0.89      0.87       976\n",
            "     class 7       0.90      0.92      0.91       472\n",
            "     class 8       0.92      0.96      0.94       691\n",
            "     class 9       0.85      0.92      0.88       725\n",
            "    class 10       0.87      0.97      0.92      1229\n",
            "    class 11       0.70      0.79      0.74       771\n",
            "    class 12       0.90      0.89      0.90       622\n",
            "    class 13       0.69      0.87      0.77       440\n",
            "    class 14       0.79      0.58      0.67       194\n",
            "    class 15       0.83      0.76      0.79       616\n",
            "\n",
            "   micro avg       0.88      0.92      0.90     12312\n",
            "   macro avg       0.81      0.83      0.82     12312\n",
            "weighted avg       0.88      0.92      0.90     12312\n",
            " samples avg       0.88      0.92      0.89     12312\n",
            "\n",
            "Number of bad epochs:  2 \n",
            "Model not saved\n"
          ]
        },
        {
          "output_type": "stream",
          "name": "stderr",
          "text": [
            "Epoch no: 10/20 Training batch no 1476: : 1477it [23:49,  1.03it/s]\n",
            "Epoch no: 10/20 Validation batch no 367: : 368it [01:35,  3.83it/s]\n"
          ]
        },
        {
          "output_type": "stream",
          "name": "stdout",
          "text": [
            "\n",
            "Training loss: 0.16305036842823029, Training Accuracy: 0.40809072444143535, Training F1 Score: 0.880280614401911\n",
            "Validation loss: 0.30637550354003906, Validation Accuracy: 0.20991847826086957, Validation F1 Score: 0.8211317931041558\n",
            "Validation Precision: 0.8035543106478663, Validation Recall: 0.841701197930912\n",
            "Training Precision: 0.8699510707948159, Training Recall: 0.8921563665182886\n",
            "validation classification report               precision    recall  f1-score   support\n",
            "\n",
            "     class 0       0.90      0.95      0.92       562\n",
            "     class 1       0.88      1.00      0.94      1302\n",
            "     class 2       0.96      1.00      0.98      1420\n",
            "     class 3       0.96      1.00      0.98      1413\n",
            "     class 4       0.88      0.88      0.88       877\n",
            "     class 5       0.00      0.00      0.00         2\n",
            "     class 6       0.84      0.91      0.88       976\n",
            "     class 7       0.90      0.92      0.91       472\n",
            "     class 8       0.95      0.95      0.95       691\n",
            "     class 9       0.84      0.92      0.88       725\n",
            "    class 10       0.89      0.95      0.92      1229\n",
            "    class 11       0.70      0.79      0.74       771\n",
            "    class 12       0.88      0.90      0.89       622\n",
            "    class 13       0.69      0.85      0.76       440\n",
            "    class 14       0.76      0.68      0.72       194\n",
            "    class 15       0.82      0.76      0.79       616\n",
            "\n",
            "   micro avg       0.88      0.93      0.90     12312\n",
            "   macro avg       0.80      0.84      0.82     12312\n",
            "weighted avg       0.88      0.93      0.90     12312\n",
            " samples avg       0.88      0.92      0.89     12312\n",
            "\n",
            "Number of bad epochs:  3 \n",
            "Model not saved\n"
          ]
        },
        {
          "output_type": "stream",
          "name": "stderr",
          "text": [
            "Epoch no: 11/20 Training batch no 1476: : 1477it [23:50,  1.03it/s]\n",
            "Epoch no: 11/20 Validation batch no 367: : 368it [01:36,  3.83it/s]\n"
          ]
        },
        {
          "output_type": "stream",
          "name": "stdout",
          "text": [
            "\n",
            "Training loss: 0.15013767778873444, Training Accuracy: 0.43940419769803657, Training F1 Score: 0.8847051873960927\n",
            "Validation loss: 0.3127412497997284, Validation Accuracy: 0.2078804347826087, Validation F1 Score: 0.8172616913802491\n",
            "Validation Precision: 0.8065272760871819, Validation Recall: 0.8316806083078574\n",
            "Training Precision: 0.8751679267063568, Training Recall: 0.8955067229587823\n",
            "validation classification report               precision    recall  f1-score   support\n",
            "\n",
            "     class 0       0.90      0.95      0.92       562\n",
            "     class 1       0.88      1.00      0.94      1302\n",
            "     class 2       0.96      1.00      0.98      1420\n",
            "     class 3       0.96      1.00      0.98      1413\n",
            "     class 4       0.84      0.90      0.87       877\n",
            "     class 5       0.00      0.00      0.00         2\n",
            "     class 6       0.87      0.85      0.86       976\n",
            "     class 7       0.89      0.92      0.90       472\n",
            "     class 8       0.95      0.95      0.95       691\n",
            "     class 9       0.87      0.89      0.88       725\n",
            "    class 10       0.88      0.97      0.92      1229\n",
            "    class 11       0.73      0.74      0.73       771\n",
            "    class 12       0.89      0.90      0.89       622\n",
            "    class 13       0.69      0.88      0.78       440\n",
            "    class 14       0.75      0.68      0.71       194\n",
            "    class 15       0.84      0.69      0.76       616\n",
            "\n",
            "   micro avg       0.88      0.92      0.90     12312\n",
            "   macro avg       0.81      0.83      0.82     12312\n",
            "weighted avg       0.88      0.92      0.90     12312\n",
            " samples avg       0.88      0.92      0.89     12312\n",
            "\n",
            "Number of bad epochs:  4 \n",
            "Model not saved\n"
          ]
        },
        {
          "output_type": "stream",
          "name": "stderr",
          "text": [
            "Epoch no: 12/20 Training batch no 1476: : 1477it [23:49,  1.03it/s]\n",
            "Epoch no: 12/20 Validation batch no 367: : 368it [01:35,  3.84it/s]\n"
          ]
        },
        {
          "output_type": "stream",
          "name": "stdout",
          "text": [
            "\n",
            "Training loss: 0.13573427498340607, Training Accuracy: 0.481719702098849, Training F1 Score: 0.8908891831033294\n",
            "Validation loss: 0.32613930106163025, Validation Accuracy: 0.21942934782608695, Validation F1 Score: 0.8231508568911519\n",
            "Validation Precision: 0.7961274216772676, Validation Recall: 0.855086524688069\n",
            "Training Precision: 0.882399605556434, Training Recall: 0.900537593630743\n",
            "validation classification report               precision    recall  f1-score   support\n",
            "\n",
            "     class 0       0.88      0.96      0.92       562\n",
            "     class 1       0.88      1.00      0.94      1302\n",
            "     class 2       0.96      1.00      0.98      1420\n",
            "     class 3       0.96      1.00      0.98      1413\n",
            "     class 4       0.86      0.89      0.87       877\n",
            "     class 5       0.00      0.00      0.00         2\n",
            "     class 6       0.85      0.88      0.86       976\n",
            "     class 7       0.88      0.93      0.91       472\n",
            "     class 8       0.95      0.95      0.95       691\n",
            "     class 9       0.83      0.94      0.88       725\n",
            "    class 10       0.88      0.96      0.92      1229\n",
            "    class 11       0.70      0.86      0.77       771\n",
            "    class 12       0.82      0.92      0.87       622\n",
            "    class 13       0.68      0.88      0.77       440\n",
            "    class 14       0.80      0.70      0.75       194\n",
            "    class 15       0.81      0.81      0.81       616\n",
            "\n",
            "   micro avg       0.87      0.94      0.90     12312\n",
            "   macro avg       0.80      0.86      0.82     12312\n",
            "weighted avg       0.87      0.94      0.90     12312\n",
            " samples avg       0.87      0.94      0.89     12312\n",
            "\n",
            "Number of bad epochs:  5 \n",
            "Model not saved\n",
            "Training Process Stopped due to 5 bad epochs and history/plot updated\n"
          ]
        },
        {
          "output_type": "display_data",
          "data": {
            "image/png": "[encoded data removed]",
            "text/plain": [
              "<Figure size 432x288 with 4 Axes>"
            ]
          },
          "metadata": {
            "needs_background": "light"
          }
        },
        {
          "output_type": "display_data",
          "data": {
            "image/png": "[encoded data removed]",
            "text/plain": [
              "<Figure size 432x288 with 4 Axes>"
            ]
          },
          "metadata": {
            "needs_background": "light"
          }
        },
        {
          "output_type": "display_data",
          "data": {
            "image/png": "[encoded data removed]",
            "text/plain": [
              "<Figure size 432x288 with 4 Axes>"
            ]
          },
          "metadata": {
            "needs_background": "light"
          }
        }
      ]
    },
    {
      "cell_type": "code",
      "metadata": {
        "id": "VmN7ikAbiaGC"
      },
      "source": [
        ""
      ],
      "execution_count": null,
      "outputs": []
    },
    {
      "cell_type": "code",
      "metadata": {
        "id": "lon_jN-LUG72"
      },
      "source": [
        ""
      ],
      "execution_count": 29,
      "outputs": []
    }
  ]
}